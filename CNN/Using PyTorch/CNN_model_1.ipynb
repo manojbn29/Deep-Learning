{
 "cells": [
  {
   "cell_type": "code",
   "execution_count": 1,
   "metadata": {
    "executionInfo": {
     "elapsed": 1565,
     "status": "ok",
     "timestamp": 1627122548823,
     "user": {
      "displayName": "Queraa",
      "photoUrl": "https://lh3.googleusercontent.com/a-/AOh14GhKeIytdOoZmbO2wecd3t_YfAMNUQETiAD7mdaWXw=s64",
      "userId": "15353436879712876318"
     },
     "user_tz": -330
    },
    "id": "JkxQCAiI-EPf"
   },
   "outputs": [
    {
     "ename": "KeyboardInterrupt",
     "evalue": "",
     "output_type": "error",
     "traceback": [
      "\u001b[1;31m---------------------------------------------------------------------------\u001b[0m",
      "\u001b[1;31mKeyboardInterrupt\u001b[0m                         Traceback (most recent call last)",
      "\u001b[1;32m<ipython-input-1-7de56b67f314>\u001b[0m in \u001b[0;36m<module>\u001b[1;34m\u001b[0m\n\u001b[0;32m      1\u001b[0m \u001b[1;32mimport\u001b[0m \u001b[0mnumpy\u001b[0m \u001b[1;32mas\u001b[0m \u001b[0mnp\u001b[0m\u001b[1;33m\u001b[0m\u001b[1;33m\u001b[0m\u001b[0m\n\u001b[0;32m      2\u001b[0m \u001b[1;32mimport\u001b[0m \u001b[0mmatplotlib\u001b[0m\u001b[1;33m.\u001b[0m\u001b[0mpyplot\u001b[0m \u001b[1;32mas\u001b[0m \u001b[0mplt\u001b[0m\u001b[1;33m\u001b[0m\u001b[1;33m\u001b[0m\u001b[0m\n\u001b[1;32m----> 3\u001b[1;33m \u001b[1;32mimport\u001b[0m \u001b[0mtorch\u001b[0m\u001b[1;33m\u001b[0m\u001b[1;33m\u001b[0m\u001b[0m\n\u001b[0m\u001b[0;32m      4\u001b[0m \u001b[1;32mimport\u001b[0m \u001b[0mtorch\u001b[0m\u001b[1;33m.\u001b[0m\u001b[0mnn\u001b[0m \u001b[1;32mas\u001b[0m \u001b[0mnn\u001b[0m\u001b[1;33m\u001b[0m\u001b[1;33m\u001b[0m\u001b[0m\n\u001b[0;32m      5\u001b[0m \u001b[1;32mimport\u001b[0m \u001b[0mtorch\u001b[0m\u001b[1;33m.\u001b[0m\u001b[0mnn\u001b[0m\u001b[1;33m.\u001b[0m\u001b[0mfunctional\u001b[0m \u001b[1;32mas\u001b[0m \u001b[0mF\u001b[0m\u001b[1;33m\u001b[0m\u001b[1;33m\u001b[0m\u001b[0m\n",
      "\u001b[1;32mc:\\users\\manoj\\appdata\\local\\programs\\python\\python38\\lib\\site-packages\\torch\\__init__.py\u001b[0m in \u001b[0;36m<module>\u001b[1;34m\u001b[0m\n\u001b[0;32m    117\u001b[0m         \u001b[0mis_loaded\u001b[0m \u001b[1;33m=\u001b[0m \u001b[1;32mFalse\u001b[0m\u001b[1;33m\u001b[0m\u001b[1;33m\u001b[0m\u001b[0m\n\u001b[0;32m    118\u001b[0m         \u001b[1;32mif\u001b[0m \u001b[0mwith_load_library_flags\u001b[0m\u001b[1;33m:\u001b[0m\u001b[1;33m\u001b[0m\u001b[1;33m\u001b[0m\u001b[0m\n\u001b[1;32m--> 119\u001b[1;33m             \u001b[0mres\u001b[0m \u001b[1;33m=\u001b[0m \u001b[0mkernel32\u001b[0m\u001b[1;33m.\u001b[0m\u001b[0mLoadLibraryExW\u001b[0m\u001b[1;33m(\u001b[0m\u001b[0mdll\u001b[0m\u001b[1;33m,\u001b[0m \u001b[1;32mNone\u001b[0m\u001b[1;33m,\u001b[0m \u001b[1;36m0x00001100\u001b[0m\u001b[1;33m)\u001b[0m\u001b[1;33m\u001b[0m\u001b[1;33m\u001b[0m\u001b[0m\n\u001b[0m\u001b[0;32m    120\u001b[0m             \u001b[0mlast_error\u001b[0m \u001b[1;33m=\u001b[0m \u001b[0mctypes\u001b[0m\u001b[1;33m.\u001b[0m\u001b[0mget_last_error\u001b[0m\u001b[1;33m(\u001b[0m\u001b[1;33m)\u001b[0m\u001b[1;33m\u001b[0m\u001b[1;33m\u001b[0m\u001b[0m\n\u001b[0;32m    121\u001b[0m             \u001b[1;32mif\u001b[0m \u001b[0mres\u001b[0m \u001b[1;32mis\u001b[0m \u001b[1;32mNone\u001b[0m \u001b[1;32mand\u001b[0m \u001b[0mlast_error\u001b[0m \u001b[1;33m!=\u001b[0m \u001b[1;36m126\u001b[0m\u001b[1;33m:\u001b[0m\u001b[1;33m\u001b[0m\u001b[1;33m\u001b[0m\u001b[0m\n",
      "\u001b[1;31mKeyboardInterrupt\u001b[0m: "
     ]
    }
   ],
   "source": [
    "import numpy as np\n",
    "import matplotlib.pyplot as plt\n",
    "import torch\n",
    "import torch.nn as nn\n",
    "import torch.nn.functional as F\n",
    "from torch.utils.data import DataLoader, Dataset\n",
    "from torchvision import models, transforms, datasets\n",
    "import os"
   ]
  },
  {
   "cell_type": "code",
   "execution_count": null,
   "metadata": {
    "colab": {
     "base_uri": "https://localhost:8080/",
     "height": 0
    },
    "executionInfo": {
     "elapsed": 12,
     "status": "ok",
     "timestamp": 1627122548824,
     "user": {
      "displayName": "Queraa",
      "photoUrl": "https://lh3.googleusercontent.com/a-/AOh14GhKeIytdOoZmbO2wecd3t_YfAMNUQETiAD7mdaWXw=s64",
      "userId": "15353436879712876318"
     },
     "user_tz": -330
    },
    "id": "_4qr_bLs_CFP",
    "outputId": "ef7a3ed5-3f6f-479b-be02-df3adc5023cc"
   },
   "outputs": [],
   "source": [
    "from google.colab import drive\n",
    "drive.mount('/content/drive')"
   ]
  },
  {
   "cell_type": "code",
   "execution_count": null,
   "metadata": {
    "executionInfo": {
     "elapsed": 1672,
     "status": "ok",
     "timestamp": 1627122550488,
     "user": {
      "displayName": "Queraa",
      "photoUrl": "https://lh3.googleusercontent.com/a-/AOh14GhKeIytdOoZmbO2wecd3t_YfAMNUQETiAD7mdaWXw=s64",
      "userId": "15353436879712876318"
     },
     "user_tz": -330
    },
    "id": "qi1P6xYI_FSe"
   },
   "outputs": [],
   "source": [
    "path = '/content/drive/MyDrive/data/ant_bee'\n",
    "transforms = transforms.Compose([transforms.RandomResizedCrop(224),\n",
    "        transforms.RandomHorizontalFlip(),\n",
    "        transforms.ToTensor(),\n",
    "        transforms.Normalize([0.485, 0.456, 0.406], [0.229, 0.224, 0.225])])\n",
    "\n",
    "# create the training and val dataloader\n",
    "train_dataset = datasets.ImageFolder(os.path.join(path, 'train'), transform=transforms)\n",
    "val_dataset = datasets.ImageFolder(os.path.join(path, 'val'), transform = transforms)\n",
    "\n",
    "# Creating the batches\n",
    "train_dataloader = DataLoader(train_dataset, batch_size = 16, drop_last = True, shuffle = True)\n",
    "val_dataloader = DataLoader(val_dataset, batch_size = 16, drop_last = True, shuffle = True)"
   ]
  },
  {
   "cell_type": "code",
   "execution_count": null,
   "metadata": {
    "colab": {
     "base_uri": "https://localhost:8080/",
     "height": 0
    },
    "executionInfo": {
     "elapsed": 9574,
     "status": "ok",
     "timestamp": 1627122737404,
     "user": {
      "displayName": "Queraa",
      "photoUrl": "https://lh3.googleusercontent.com/a-/AOh14GhKeIytdOoZmbO2wecd3t_YfAMNUQETiAD7mdaWXw=s64",
      "userId": "15353436879712876318"
     },
     "user_tz": -330
    },
    "id": "mwvvWhApEAM0",
    "outputId": "d3c0fbb0-bb6a-4d7b-cf2a-b40bea742a6d"
   },
   "outputs": [],
   "source": [
    "print(f'Shape of the input images are {next(iter(train_dataloader))[0].shape}')\n",
    "print(f'Shape of the input labels are {next(iter(train_dataloader))[1].shape}')"
   ]
  },
  {
   "cell_type": "code",
   "execution_count": null,
   "metadata": {
    "colab": {
     "background_save": true
    },
    "executionInfo": {
     "elapsed": 851,
     "status": "ok",
     "timestamp": 1627129042555,
     "user": {
      "displayName": "Queraa",
      "photoUrl": "https://lh3.googleusercontent.com/a-/AOh14GhKeIytdOoZmbO2wecd3t_YfAMNUQETiAD7mdaWXw=s64",
      "userId": "15353436879712876318"
     },
     "user_tz": -330
    },
    "id": "QQD8gD7gEy5x"
   },
   "outputs": [],
   "source": [
    "# loading our model\n",
    "model = models.resnet18(pretrained=True)\n",
    "for param in model.parameters():\n",
    "    param.requires_grad = False\n",
    "\n",
    "\n",
    "num_in_ftrs = model.fc.in_features # finding the number of input features\n",
    "# model.fc = nn.Linear(num_in_ftrs, 2) # we have two classes\n",
    "model.fc = nn.Sequential(nn.Linear(num_in_ftrs, 128), \n",
    "                         nn.ReLU(),\n",
    "                         nn.Dropout(0.2),\n",
    "                         nn.Linear(128, 16), \n",
    "                         nn.ReLU(),\n",
    "                         nn.Dropout(0.2),\n",
    "                         nn.Linear(16, 2), \n",
    "                         nn.Softmax())"
   ]
  },
  {
   "cell_type": "code",
   "execution_count": null,
   "metadata": {
    "colab": {
     "background_save": true
    },
    "executionInfo": {
     "elapsed": 1266,
     "status": "ok",
     "timestamp": 1627129487571,
     "user": {
      "displayName": "Queraa",
      "photoUrl": "https://lh3.googleusercontent.com/a-/AOh14GhKeIytdOoZmbO2wecd3t_YfAMNUQETiAD7mdaWXw=s64",
      "userId": "15353436879712876318"
     },
     "user_tz": -330
    },
    "id": "VnhQ4C8DIkf4"
   },
   "outputs": [],
   "source": [
    "# Create the criterion \n",
    "criterion = nn.CrossEntropyLoss()\n",
    "\n",
    "# Create the optimizer\n",
    "optimizer = torch.optim.Adam(model.fc.parameters(), lr = 0.01)\n",
    "\n",
    "# Selecting the device\n",
    "device = torch.device('cuda' if torch.cuda.is_available() else 'cpu')"
   ]
  },
  {
   "cell_type": "code",
   "execution_count": null,
   "metadata": {
    "colab": {
     "base_uri": "https://localhost:8080/",
     "height": 739
    },
    "executionInfo": {
     "elapsed": 8811,
     "status": "error",
     "timestamp": 1627129698362,
     "user": {
      "displayName": "Queraa",
      "photoUrl": "https://lh3.googleusercontent.com/a-/AOh14GhKeIytdOoZmbO2wecd3t_YfAMNUQETiAD7mdaWXw=s64",
      "userId": "15353436879712876318"
     },
     "user_tz": -330
    },
    "id": "ntJy4a-zLXcZ",
    "outputId": "dc9d2c2c-a6f3-449d-f8eb-ab6f9b8dfe23"
   },
   "outputs": [],
   "source": [
    "train_loss_epoch = []\n",
    "val_loss_epoch = []\n",
    "val_accuracy = []\n",
    "\n",
    "model.to(device)\n",
    "criterion.to(device)\n",
    "\n",
    "epochs = 30\n",
    "\n",
    "for epoch in range(epochs):\n",
    "\n",
    "  model.train()\n",
    "\n",
    "  train_loss = 0\n",
    "  for images, labels in train_dataloader:\n",
    "\n",
    "    optimizer.zero_grad()\n",
    "\n",
    "    images = images.to(device)\n",
    "    labels = labels.to(device)\n",
    "\n",
    "    logits = model(images)\n",
    "    loss = criterion(logits, labels)\n",
    "\n",
    "    print(logits)\n",
    "\n",
    "    loss.backward()\n",
    "\n",
    "    optimizer.step()\n",
    "\n",
    "    train_loss+=loss\n",
    "\n",
    "\n",
    "  model.eval()\n",
    "  size = len(val_dataset)\n",
    "\n",
    "  with torch.no_grad():\n",
    "    val_loss = 0\n",
    "    running_corrects = 0\n",
    "    for images, labels in val_dataloader:\n",
    "      \n",
    "      images = images.to(device)\n",
    "      labels = labels.to(device)\n",
    "\n",
    "      output = model(images)\n",
    "      loss = criterion(output, labels)\n",
    "\n",
    "      val_loss += loss\n",
    "\n",
    "\n",
    "      # Calculate the accuracy\n",
    "      _, preds = torch.max(outputs, 1)\n",
    "      running_corrects += torch.sum(preds == labels.data)\n",
    "\n",
    "  print(f'Epoch no : {epoch}')\n",
    "  print('_' * 30)\n",
    "  print(f'Train loss for {epoch}/{epochs}: {train_loss}')\n",
    "  print(f'Val loss for {epoch}/{epochs}: {val_loss}')\n",
    "  print(f'Validation accuracy: {running_corrects/size}')\n",
    "\n",
    "\n",
    "  train_loss_epoch.append(train_loss)\n",
    "  val_loss_epoch.append(val_loss)\n",
    "  val_accuracy.append(running_corrects)\n"
   ]
  },
  {
   "cell_type": "code",
   "execution_count": null,
   "metadata": {
    "colab": {
     "base_uri": "https://localhost:8080/",
     "height": 0
    },
    "executionInfo": {
     "elapsed": 876,
     "status": "ok",
     "timestamp": 1627128708657,
     "user": {
      "displayName": "Queraa",
      "photoUrl": "https://lh3.googleusercontent.com/a-/AOh14GhKeIytdOoZmbO2wecd3t_YfAMNUQETiAD7mdaWXw=s64",
      "userId": "15353436879712876318"
     },
     "user_tz": -330
    },
    "id": "aejWMII9bPjl",
    "outputId": "c93f2639-e00e-4d8c-95d1-34d43ab67a47"
   },
   "outputs": [],
   "source": [
    "len(val_dataset)"
   ]
  }
 ],
 "metadata": {
  "accelerator": "GPU",
  "colab": {
   "authorship_tag": "ABX9TyMXwetaRJcH5/h88NqUYACV",
   "collapsed_sections": [],
   "name": "transfer_learning_ants.ipynb",
   "version": ""
  },
  "kernelspec": {
   "display_name": "Python 3",
   "language": "python",
   "name": "python3"
  },
  "language_info": {
   "codemirror_mode": {
    "name": "ipython",
    "version": 3
   },
   "file_extension": ".py",
   "mimetype": "text/x-python",
   "name": "python",
   "nbconvert_exporter": "python",
   "pygments_lexer": "ipython3",
   "version": "3.8.6"
  }
 },
 "nbformat": 4,
 "nbformat_minor": 4
}
