{
 "cells": [
  {
   "cell_type": "markdown",
   "id": "cultural-saturday",
   "metadata": {},
   "source": [
    "# **Data Augumentation using Python and Keras**"
   ]
  },
  {
   "cell_type": "markdown",
   "id": "based-yukon",
   "metadata": {},
   "source": [
    "For more info refer this link: https://blog.keras.io/building-powerful-image-classification-models-using-very-little-data.html"
   ]
  },
  {
   "cell_type": "code",
   "execution_count": 1,
   "id": "improved-comparative",
   "metadata": {},
   "outputs": [],
   "source": [
    "from keras.preprocessing.image import ImageDataGenerator, array_to_img, img_to_array, load_img"
   ]
  },
  {
   "cell_type": "code",
   "execution_count": 2,
   "id": "champion-adobe",
   "metadata": {},
   "outputs": [],
   "source": [
    "datagen = ImageDataGenerator(rotation_range=40, \n",
    "                             width_shift_range=0.2,\n",
    "                             height_shift_range=0.2,\n",
    "                             brightness_range=None,\n",
    "                             shear_range=0.2,\n",
    "                             zoom_range=0.2,\n",
    "                             fill_mode='nearest',\n",
    "                             horizontal_flip=True)"
   ]
  },
  {
   "cell_type": "code",
   "execution_count": 3,
   "id": "major-penalty",
   "metadata": {},
   "outputs": [],
   "source": [
    "img = load_img('Dataset/cat/cat.3.jpg')"
   ]
  },
  {
   "cell_type": "code",
   "execution_count": 4,
   "id": "prepared-desktop",
   "metadata": {},
   "outputs": [],
   "source": [
    "x = img_to_array(img)  # this is a Numpy array with shape (3, 150, 150)"
   ]
  },
  {
   "cell_type": "code",
   "execution_count": 5,
   "id": "earlier-packing",
   "metadata": {},
   "outputs": [
    {
     "data": {
      "text/plain": [
       "array([[[160., 151., 142.],\n",
       "        [164., 155., 146.],\n",
       "        [170., 160., 151.],\n",
       "        ...,\n",
       "        [185., 172., 156.],\n",
       "        [184., 171., 155.],\n",
       "        [183., 170., 154.]],\n",
       "\n",
       "       [[126., 117., 108.],\n",
       "        [131., 123., 112.],\n",
       "        [137., 127., 118.],\n",
       "        ...,\n",
       "        [184., 171., 155.],\n",
       "        [183., 170., 154.],\n",
       "        [182., 169., 153.]],\n",
       "\n",
       "       [[127., 119., 108.],\n",
       "        [131., 123., 110.],\n",
       "        [138., 128., 118.],\n",
       "        ...,\n",
       "        [183., 169., 156.],\n",
       "        [182., 168., 155.],\n",
       "        [181., 167., 154.]],\n",
       "\n",
       "       ...,\n",
       "\n",
       "       [[198., 186., 162.],\n",
       "        [193., 181., 157.],\n",
       "        [178., 166., 142.],\n",
       "        ...,\n",
       "        [206., 204., 181.],\n",
       "        [195., 193., 170.],\n",
       "        [174., 172., 149.]],\n",
       "\n",
       "       [[176., 164., 140.],\n",
       "        [183., 171., 147.],\n",
       "        [175., 163., 139.],\n",
       "        ...,\n",
       "        [188., 187., 169.],\n",
       "        [144., 143., 125.],\n",
       "        [125., 124., 106.]],\n",
       "\n",
       "       [[190., 178., 154.],\n",
       "        [190., 178., 154.],\n",
       "        [157., 145., 121.],\n",
       "        ...,\n",
       "        [200., 198., 183.],\n",
       "        [145., 143., 128.],\n",
       "        [144., 142., 127.]]], dtype=float32)"
      ]
     },
     "execution_count": 5,
     "metadata": {},
     "output_type": "execute_result"
    }
   ],
   "source": [
    "x"
   ]
  },
  {
   "cell_type": "code",
   "execution_count": 6,
   "id": "stupid-image",
   "metadata": {},
   "outputs": [],
   "source": [
    "x = x.reshape((1,) + x.shape)  # this is a Numpy array with shape (1, 3, 150, 150) this is 150 *150 pixels , 3 is chaneel"
   ]
  },
  {
   "cell_type": "code",
   "execution_count": 7,
   "id": "biblical-store",
   "metadata": {},
   "outputs": [
    {
     "data": {
      "text/plain": [
       "array([[[[160., 151., 142.],\n",
       "         [164., 155., 146.],\n",
       "         [170., 160., 151.],\n",
       "         ...,\n",
       "         [185., 172., 156.],\n",
       "         [184., 171., 155.],\n",
       "         [183., 170., 154.]],\n",
       "\n",
       "        [[126., 117., 108.],\n",
       "         [131., 123., 112.],\n",
       "         [137., 127., 118.],\n",
       "         ...,\n",
       "         [184., 171., 155.],\n",
       "         [183., 170., 154.],\n",
       "         [182., 169., 153.]],\n",
       "\n",
       "        [[127., 119., 108.],\n",
       "         [131., 123., 110.],\n",
       "         [138., 128., 118.],\n",
       "         ...,\n",
       "         [183., 169., 156.],\n",
       "         [182., 168., 155.],\n",
       "         [181., 167., 154.]],\n",
       "\n",
       "        ...,\n",
       "\n",
       "        [[198., 186., 162.],\n",
       "         [193., 181., 157.],\n",
       "         [178., 166., 142.],\n",
       "         ...,\n",
       "         [206., 204., 181.],\n",
       "         [195., 193., 170.],\n",
       "         [174., 172., 149.]],\n",
       "\n",
       "        [[176., 164., 140.],\n",
       "         [183., 171., 147.],\n",
       "         [175., 163., 139.],\n",
       "         ...,\n",
       "         [188., 187., 169.],\n",
       "         [144., 143., 125.],\n",
       "         [125., 124., 106.]],\n",
       "\n",
       "        [[190., 178., 154.],\n",
       "         [190., 178., 154.],\n",
       "         [157., 145., 121.],\n",
       "         ...,\n",
       "         [200., 198., 183.],\n",
       "         [145., 143., 128.],\n",
       "         [144., 142., 127.]]]], dtype=float32)"
      ]
     },
     "execution_count": 7,
     "metadata": {},
     "output_type": "execute_result"
    }
   ],
   "source": [
    "x"
   ]
  },
  {
   "cell_type": "code",
   "execution_count": 8,
   "id": "confidential-reform",
   "metadata": {
    "tags": []
   },
   "outputs": [],
   "source": [
    "# Create a folder with name 'preview' or you can you use any name\n",
    "i = 0\n",
    "for batch in datagen.flow(x, batch_size=1,\n",
    "                          save_to_dir='preview', save_prefix='cat', save_format='jpeg'):\n",
    "    i += 1\n",
    "    if i > 20:\n",
    "        break  # otherwise the generator would loop indefinitely"
   ]
  }
 ],
 "metadata": {
  "kernelspec": {
   "display_name": "Python 3",
   "language": "python",
   "name": "python3"
  },
  "language_info": {
   "codemirror_mode": {
    "name": "ipython",
    "version": 3
   },
   "file_extension": ".py",
   "mimetype": "text/x-python",
   "name": "python",
   "nbconvert_exporter": "python",
   "pygments_lexer": "ipython3",
   "version": "3.8.6"
  }
 },
 "nbformat": 4,
 "nbformat_minor": 5
}
