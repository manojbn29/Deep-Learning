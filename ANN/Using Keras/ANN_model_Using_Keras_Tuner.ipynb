{
 "cells": [
  {
   "cell_type": "markdown",
   "id": "wrapped-beverage",
   "metadata": {},
   "source": [
    "# **Hyper Parameter Tuning the ANN Model using Keras Tuner**"
   ]
  },
  {
   "cell_type": "markdown",
   "id": "simple-display",
   "metadata": {},
   "source": [
    "In the last notbook i.e ANN_model_Hyper_Parameter_Tuning we used grid serach cv to scheck all the best parameters "
   ]
  },
  {
   "cell_type": "markdown",
   "id": "worldwide-frederick",
   "metadata": {},
   "source": [
    "Here we will use a special module called Keras Tuner to decide Number of Hidden Layers And Neuron In Neural Network"
   ]
  },
  {
   "cell_type": "markdown",
   "id": "greatest-uzbekistan",
   "metadata": {},
   "source": [
    "Official keras tuner page : https://keras.io/keras_tuner/"
   ]
  },
  {
   "cell_type": "markdown",
   "id": "determined-engagement",
   "metadata": {},
   "source": [
    "To get the more info: https://www.tensorflow.org/tutorials/keras/keras_tuner"
   ]
  },
  {
   "cell_type": "code",
   "execution_count": 1,
   "id": "rational-comfort",
   "metadata": {},
   "outputs": [
    {
     "name": "stderr",
     "output_type": "stream",
     "text": [
      "<ipython-input-1-63cf4df417c7>:4: DeprecationWarning: `import kerastuner` is deprecated, please use `import keras_tuner`.\n",
      "  from kerastuner.tuners import RandomSearch\n"
     ]
    }
   ],
   "source": [
    "import pandas as pd\n",
    "from tensorflow import keras\n",
    "from tensorflow.keras import layers\n",
    "from kerastuner.tuners import RandomSearch"
   ]
  },
  {
   "cell_type": "code",
   "execution_count": 2,
   "id": "concerned-insert",
   "metadata": {},
   "outputs": [],
   "source": [
    "df = pd.read_csv('Real_Combine.csv')"
   ]
  },
  {
   "cell_type": "code",
   "execution_count": 3,
   "id": "agreed-recovery",
   "metadata": {},
   "outputs": [
    {
     "data": {
      "text/html": [
       "<div>\n",
       "<style scoped>\n",
       "    .dataframe tbody tr th:only-of-type {\n",
       "        vertical-align: middle;\n",
       "    }\n",
       "\n",
       "    .dataframe tbody tr th {\n",
       "        vertical-align: top;\n",
       "    }\n",
       "\n",
       "    .dataframe thead th {\n",
       "        text-align: right;\n",
       "    }\n",
       "</style>\n",
       "<table border=\"1\" class=\"dataframe\">\n",
       "  <thead>\n",
       "    <tr style=\"text-align: right;\">\n",
       "      <th></th>\n",
       "      <th>T</th>\n",
       "      <th>TM</th>\n",
       "      <th>Tm</th>\n",
       "      <th>SLP</th>\n",
       "      <th>H</th>\n",
       "      <th>VV</th>\n",
       "      <th>V</th>\n",
       "      <th>VM</th>\n",
       "      <th>PM 2.5</th>\n",
       "    </tr>\n",
       "  </thead>\n",
       "  <tbody>\n",
       "    <tr>\n",
       "      <th>0</th>\n",
       "      <td>7.4</td>\n",
       "      <td>9.8</td>\n",
       "      <td>4.8</td>\n",
       "      <td>1017.6</td>\n",
       "      <td>93.0</td>\n",
       "      <td>0.5</td>\n",
       "      <td>4.3</td>\n",
       "      <td>9.4</td>\n",
       "      <td>219.720833</td>\n",
       "    </tr>\n",
       "    <tr>\n",
       "      <th>1</th>\n",
       "      <td>7.8</td>\n",
       "      <td>12.7</td>\n",
       "      <td>4.4</td>\n",
       "      <td>1018.5</td>\n",
       "      <td>87.0</td>\n",
       "      <td>0.6</td>\n",
       "      <td>4.4</td>\n",
       "      <td>11.1</td>\n",
       "      <td>182.187500</td>\n",
       "    </tr>\n",
       "    <tr>\n",
       "      <th>2</th>\n",
       "      <td>6.7</td>\n",
       "      <td>13.4</td>\n",
       "      <td>2.4</td>\n",
       "      <td>1019.4</td>\n",
       "      <td>82.0</td>\n",
       "      <td>0.6</td>\n",
       "      <td>4.8</td>\n",
       "      <td>11.1</td>\n",
       "      <td>154.037500</td>\n",
       "    </tr>\n",
       "    <tr>\n",
       "      <th>3</th>\n",
       "      <td>8.6</td>\n",
       "      <td>15.5</td>\n",
       "      <td>3.3</td>\n",
       "      <td>1018.7</td>\n",
       "      <td>72.0</td>\n",
       "      <td>0.8</td>\n",
       "      <td>8.1</td>\n",
       "      <td>20.6</td>\n",
       "      <td>223.208333</td>\n",
       "    </tr>\n",
       "    <tr>\n",
       "      <th>4</th>\n",
       "      <td>12.4</td>\n",
       "      <td>20.9</td>\n",
       "      <td>4.4</td>\n",
       "      <td>1017.3</td>\n",
       "      <td>61.0</td>\n",
       "      <td>1.3</td>\n",
       "      <td>8.7</td>\n",
       "      <td>22.2</td>\n",
       "      <td>200.645833</td>\n",
       "    </tr>\n",
       "  </tbody>\n",
       "</table>\n",
       "</div>"
      ],
      "text/plain": [
       "      T    TM   Tm     SLP     H   VV    V    VM      PM 2.5\n",
       "0   7.4   9.8  4.8  1017.6  93.0  0.5  4.3   9.4  219.720833\n",
       "1   7.8  12.7  4.4  1018.5  87.0  0.6  4.4  11.1  182.187500\n",
       "2   6.7  13.4  2.4  1019.4  82.0  0.6  4.8  11.1  154.037500\n",
       "3   8.6  15.5  3.3  1018.7  72.0  0.8  8.1  20.6  223.208333\n",
       "4  12.4  20.9  4.4  1017.3  61.0  1.3  8.7  22.2  200.645833"
      ]
     },
     "execution_count": 3,
     "metadata": {},
     "output_type": "execute_result"
    }
   ],
   "source": [
    "df.head()"
   ]
  },
  {
   "cell_type": "code",
   "execution_count": 4,
   "id": "departmental-sessions",
   "metadata": {},
   "outputs": [
    {
     "data": {
      "text/plain": [
       "(1093, 9)"
      ]
     },
     "execution_count": 4,
     "metadata": {},
     "output_type": "execute_result"
    }
   ],
   "source": [
    "df.shape"
   ]
  },
  {
   "cell_type": "code",
   "execution_count": 5,
   "id": "statutory-member",
   "metadata": {},
   "outputs": [],
   "source": [
    "X=df.iloc[:,:-1] ## independent features\n",
    "y=df.iloc[:,-1] ## dependent features"
   ]
  },
  {
   "cell_type": "markdown",
   "id": "opposed-virtue",
   "metadata": {},
   "source": [
    "## Hyperparameters\n",
    "1. How many number of hidden layers we should have?\n",
    "2. How many number of neurons we should have in hidden layers?\n",
    "3. Learning Rate "
   ]
  },
  {
   "cell_type": "code",
   "execution_count": 5,
   "id": "adequate-damage",
   "metadata": {},
   "outputs": [],
   "source": [
    "def build_model(hp):\n",
    "    model = keras.Sequential()\n",
    "    for i in range(hp.Int('num_layers', 2, 20)):  # Number of hidden layers from 2 to 20\n",
    "        model.add(layers.Dense(units=hp.Int('units_' + str(i),\n",
    "                                            min_value=32,\n",
    "                                            max_value=512,\n",
    "                                            step=32),\n",
    "                               activation='relu'))  # inside that layer how many number of neurons we need from 32 to 512, activation function is relu \n",
    "        \n",
    "    model.add(layers.Dense(1, activation='linear'))  # this is the last output layer, we used linear as activation function for regression\n",
    "    \n",
    "    model.compile(\n",
    "        optimizer=keras.optimizers.Adam(\n",
    "            hp.Choice('learning_rate', [1e-2, 1e-3, 1e-4])),\n",
    "        loss='mean_absolute_error',\n",
    "        metrics=['mean_absolute_error']) # taken adam optimizer, and learning rate is varying from 1e2 to 1e4, and loss is mae and metrix is mae for regression\n",
    "    \n",
    "    return model"
   ]
  },
  {
   "cell_type": "markdown",
   "id": "curious-dressing",
   "metadata": {},
   "source": [
    "### here the hyperparameters are:\n",
    "\n",
    "1) how many number of hidden layers we have\n",
    "2) how many number of neurons we shoukd have in each hidden layers\n",
    "3) What is the learning rate"
   ]
  },
  {
   "cell_type": "code",
   "execution_count": 6,
   "id": "sweet-platinum",
   "metadata": {},
   "outputs": [
    {
     "name": "stdout",
     "output_type": "stream",
     "text": [
      "INFO:tensorflow:Reloading Oracle from existing project project\\Air Quality Index\\oracle.json\n",
      "INFO:tensorflow:Reloading Tuner from project\\Air Quality Index\\tuner0.json\n"
     ]
    }
   ],
   "source": [
    "tuner = RandomSearch(\n",
    "    build_model,\n",
    "    objective='val_mean_absolute_error',\n",
    "    max_trials=5,\n",
    "    executions_per_trial=3,\n",
    "    directory='project',\n",
    "    project_name='Air Quality Index')\n",
    "\n",
    "# here 15 trails it will rul because max trail = 5, executions_per_trial=3"
   ]
  },
  {
   "cell_type": "code",
   "execution_count": 7,
   "id": "ordered-drilling",
   "metadata": {},
   "outputs": [
    {
     "name": "stdout",
     "output_type": "stream",
     "text": [
      "Search space summary\n",
      "Default search space size: 18\n",
      "num_layers (Int)\n",
      "{'default': None, 'conditions': [], 'min_value': 2, 'max_value': 20, 'step': 1, 'sampling': None}\n",
      "units_0 (Int)\n",
      "{'default': None, 'conditions': [], 'min_value': 32, 'max_value': 512, 'step': 32, 'sampling': None}\n",
      "units_1 (Int)\n",
      "{'default': None, 'conditions': [], 'min_value': 32, 'max_value': 512, 'step': 32, 'sampling': None}\n",
      "learning_rate (Choice)\n",
      "{'default': 0.01, 'conditions': [], 'values': [0.01, 0.001, 0.0001], 'ordered': True}\n",
      "units_2 (Int)\n",
      "{'default': None, 'conditions': [], 'min_value': 32, 'max_value': 512, 'step': 32, 'sampling': None}\n",
      "units_3 (Int)\n",
      "{'default': None, 'conditions': [], 'min_value': 32, 'max_value': 512, 'step': 32, 'sampling': None}\n",
      "units_4 (Int)\n",
      "{'default': None, 'conditions': [], 'min_value': 32, 'max_value': 512, 'step': 32, 'sampling': None}\n",
      "units_5 (Int)\n",
      "{'default': None, 'conditions': [], 'min_value': 32, 'max_value': 512, 'step': 32, 'sampling': None}\n",
      "units_6 (Int)\n",
      "{'default': None, 'conditions': [], 'min_value': 32, 'max_value': 512, 'step': 32, 'sampling': None}\n",
      "units_7 (Int)\n",
      "{'default': None, 'conditions': [], 'min_value': 32, 'max_value': 512, 'step': 32, 'sampling': None}\n",
      "units_8 (Int)\n",
      "{'default': None, 'conditions': [], 'min_value': 32, 'max_value': 512, 'step': 32, 'sampling': None}\n",
      "units_9 (Int)\n",
      "{'default': None, 'conditions': [], 'min_value': 32, 'max_value': 512, 'step': 32, 'sampling': None}\n",
      "units_10 (Int)\n",
      "{'default': None, 'conditions': [], 'min_value': 32, 'max_value': 512, 'step': 32, 'sampling': None}\n",
      "units_11 (Int)\n",
      "{'default': None, 'conditions': [], 'min_value': 32, 'max_value': 512, 'step': 32, 'sampling': None}\n",
      "units_12 (Int)\n",
      "{'default': None, 'conditions': [], 'min_value': 32, 'max_value': 512, 'step': 32, 'sampling': None}\n",
      "units_13 (Int)\n",
      "{'default': None, 'conditions': [], 'min_value': 32, 'max_value': 512, 'step': 32, 'sampling': None}\n",
      "units_14 (Int)\n",
      "{'default': None, 'conditions': [], 'min_value': 32, 'max_value': 512, 'step': 32, 'sampling': None}\n",
      "units_15 (Int)\n",
      "{'default': None, 'conditions': [], 'min_value': 32, 'max_value': 512, 'step': 32, 'sampling': None}\n"
     ]
    }
   ],
   "source": [
    "tuner.search_space_summary()"
   ]
  },
  {
   "cell_type": "code",
   "execution_count": 8,
   "id": "written-content",
   "metadata": {},
   "outputs": [],
   "source": [
    "# Train test split\n",
    "from sklearn.model_selection import train_test_split\n",
    "X_train, X_test, y_train, y_test = train_test_split(X, y, test_size=0.3, random_state=0)"
   ]
  },
  {
   "cell_type": "code",
   "execution_count": 9,
   "id": "configured-wonder",
   "metadata": {},
   "outputs": [
    {
     "name": "stdout",
     "output_type": "stream",
     "text": [
      "INFO:tensorflow:Oracle triggered exit\n"
     ]
    }
   ],
   "source": [
    "tuner.search(X_train, y_train,\n",
    "             epochs=5,\n",
    "             validation_data=(X_test, y_test))"
   ]
  },
  {
   "cell_type": "code",
   "execution_count": 10,
   "id": "scientific-velvet",
   "metadata": {},
   "outputs": [
    {
     "name": "stdout",
     "output_type": "stream",
     "text": [
      "Results summary\n",
      "Results in project\\Air Quality Index\n",
      "Showing 10 best trials\n",
      "Objective(name='val_mean_absolute_error', direction='min')\n",
      "Trial summary\n",
      "Hyperparameters:\n",
      "num_layers: 16\n",
      "units_0: 192\n",
      "units_1: 224\n",
      "learning_rate: 0.01\n",
      "units_2: 192\n",
      "units_3: 448\n",
      "units_4: 352\n",
      "units_5: 480\n",
      "units_6: 128\n",
      "units_7: 192\n",
      "units_8: 512\n",
      "units_9: 256\n",
      "units_10: 64\n",
      "units_11: 256\n",
      "units_12: 32\n",
      "units_13: 32\n",
      "units_14: 32\n",
      "units_15: 32\n",
      "Score: nan\n",
      "Trial summary\n",
      "Hyperparameters:\n",
      "num_layers: 4\n",
      "units_0: 96\n",
      "units_1: 192\n",
      "learning_rate: 0.0001\n",
      "units_2: 160\n",
      "units_3: 352\n",
      "units_4: 416\n",
      "units_5: 224\n",
      "units_6: 64\n",
      "units_7: 416\n",
      "units_8: 448\n",
      "units_9: 160\n",
      "units_10: 64\n",
      "units_11: 480\n",
      "Score: nan\n",
      "Trial summary\n",
      "Hyperparameters:\n",
      "num_layers: 12\n",
      "units_0: 224\n",
      "units_1: 256\n",
      "learning_rate: 0.0001\n",
      "units_2: 32\n",
      "units_3: 32\n",
      "units_4: 32\n",
      "units_5: 32\n",
      "units_6: 32\n",
      "units_7: 32\n",
      "units_8: 32\n",
      "units_9: 32\n",
      "units_10: 32\n",
      "units_11: 32\n",
      "Score: nan\n",
      "Trial summary\n",
      "Hyperparameters:\n",
      "num_layers: 6\n",
      "units_0: 128\n",
      "units_1: 448\n",
      "learning_rate: 0.0001\n",
      "units_2: 96\n",
      "units_3: 224\n",
      "units_4: 320\n",
      "units_5: 192\n",
      "units_6: 448\n",
      "units_7: 448\n",
      "units_8: 384\n",
      "units_9: 320\n",
      "units_10: 384\n",
      "units_11: 64\n",
      "Score: nan\n",
      "Trial summary\n",
      "Hyperparameters:\n",
      "num_layers: 9\n",
      "units_0: 64\n",
      "units_1: 416\n",
      "learning_rate: 0.001\n",
      "units_2: 480\n",
      "units_3: 448\n",
      "units_4: 288\n",
      "units_5: 352\n",
      "units_6: 160\n",
      "units_7: 288\n",
      "units_8: 320\n",
      "units_9: 128\n",
      "units_10: 480\n",
      "units_11: 160\n",
      "Score: nan\n"
     ]
    }
   ],
   "source": [
    "tuner.results_summary()"
   ]
  }
 ],
 "metadata": {
  "kernelspec": {
   "display_name": "Python 3",
   "language": "python",
   "name": "python3"
  },
  "language_info": {
   "codemirror_mode": {
    "name": "ipython",
    "version": 3
   },
   "file_extension": ".py",
   "mimetype": "text/x-python",
   "name": "python",
   "nbconvert_exporter": "python",
   "pygments_lexer": "ipython3",
   "version": "3.8.6"
  }
 },
 "nbformat": 4,
 "nbformat_minor": 5
}
