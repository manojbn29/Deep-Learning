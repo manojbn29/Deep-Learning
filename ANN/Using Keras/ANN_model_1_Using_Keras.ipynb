{
 "cells": [
  {
   "cell_type": "markdown",
   "id": "automatic-fusion",
   "metadata": {},
   "source": [
    "# **Creating ANN (Artificial Neural Network) Model Using Keras**"
   ]
  },
  {
   "cell_type": "code",
   "execution_count": 1,
   "id": "inappropriate-spank",
   "metadata": {},
   "outputs": [],
   "source": [
    "import pandas as pd\n",
    "import numpy as np\n",
    "import matplotlib.pyplot as plt\n",
    "import seaborn as sns\n",
    "%matplotlib inline"
   ]
  },
  {
   "cell_type": "code",
   "execution_count": 2,
   "id": "relative-adapter",
   "metadata": {},
   "outputs": [],
   "source": [
    "# Importing the dataset\n",
    "dataset = pd.read_csv('Churn_Modelling.csv')"
   ]
  },
  {
   "cell_type": "code",
   "execution_count": 3,
   "id": "subtle-following",
   "metadata": {},
   "outputs": [
    {
     "data": {
      "text/html": [
       "<div>\n",
       "<style scoped>\n",
       "    .dataframe tbody tr th:only-of-type {\n",
       "        vertical-align: middle;\n",
       "    }\n",
       "\n",
       "    .dataframe tbody tr th {\n",
       "        vertical-align: top;\n",
       "    }\n",
       "\n",
       "    .dataframe thead th {\n",
       "        text-align: right;\n",
       "    }\n",
       "</style>\n",
       "<table border=\"1\" class=\"dataframe\">\n",
       "  <thead>\n",
       "    <tr style=\"text-align: right;\">\n",
       "      <th></th>\n",
       "      <th>RowNumber</th>\n",
       "      <th>CustomerId</th>\n",
       "      <th>Surname</th>\n",
       "      <th>CreditScore</th>\n",
       "      <th>Geography</th>\n",
       "      <th>Gender</th>\n",
       "      <th>Age</th>\n",
       "      <th>Tenure</th>\n",
       "      <th>Balance</th>\n",
       "      <th>NumOfProducts</th>\n",
       "      <th>HasCrCard</th>\n",
       "      <th>IsActiveMember</th>\n",
       "      <th>EstimatedSalary</th>\n",
       "      <th>Exited</th>\n",
       "    </tr>\n",
       "  </thead>\n",
       "  <tbody>\n",
       "    <tr>\n",
       "      <th>0</th>\n",
       "      <td>1</td>\n",
       "      <td>15634602</td>\n",
       "      <td>Hargrave</td>\n",
       "      <td>619</td>\n",
       "      <td>France</td>\n",
       "      <td>Female</td>\n",
       "      <td>42</td>\n",
       "      <td>2</td>\n",
       "      <td>0.00</td>\n",
       "      <td>1</td>\n",
       "      <td>1</td>\n",
       "      <td>1</td>\n",
       "      <td>101348.88</td>\n",
       "      <td>1</td>\n",
       "    </tr>\n",
       "    <tr>\n",
       "      <th>1</th>\n",
       "      <td>2</td>\n",
       "      <td>15647311</td>\n",
       "      <td>Hill</td>\n",
       "      <td>608</td>\n",
       "      <td>Spain</td>\n",
       "      <td>Female</td>\n",
       "      <td>41</td>\n",
       "      <td>1</td>\n",
       "      <td>83807.86</td>\n",
       "      <td>1</td>\n",
       "      <td>0</td>\n",
       "      <td>1</td>\n",
       "      <td>112542.58</td>\n",
       "      <td>0</td>\n",
       "    </tr>\n",
       "    <tr>\n",
       "      <th>2</th>\n",
       "      <td>3</td>\n",
       "      <td>15619304</td>\n",
       "      <td>Onio</td>\n",
       "      <td>502</td>\n",
       "      <td>France</td>\n",
       "      <td>Female</td>\n",
       "      <td>42</td>\n",
       "      <td>8</td>\n",
       "      <td>159660.80</td>\n",
       "      <td>3</td>\n",
       "      <td>1</td>\n",
       "      <td>0</td>\n",
       "      <td>113931.57</td>\n",
       "      <td>1</td>\n",
       "    </tr>\n",
       "    <tr>\n",
       "      <th>3</th>\n",
       "      <td>4</td>\n",
       "      <td>15701354</td>\n",
       "      <td>Boni</td>\n",
       "      <td>699</td>\n",
       "      <td>France</td>\n",
       "      <td>Female</td>\n",
       "      <td>39</td>\n",
       "      <td>1</td>\n",
       "      <td>0.00</td>\n",
       "      <td>2</td>\n",
       "      <td>0</td>\n",
       "      <td>0</td>\n",
       "      <td>93826.63</td>\n",
       "      <td>0</td>\n",
       "    </tr>\n",
       "    <tr>\n",
       "      <th>4</th>\n",
       "      <td>5</td>\n",
       "      <td>15737888</td>\n",
       "      <td>Mitchell</td>\n",
       "      <td>850</td>\n",
       "      <td>Spain</td>\n",
       "      <td>Female</td>\n",
       "      <td>43</td>\n",
       "      <td>2</td>\n",
       "      <td>125510.82</td>\n",
       "      <td>1</td>\n",
       "      <td>1</td>\n",
       "      <td>1</td>\n",
       "      <td>79084.10</td>\n",
       "      <td>0</td>\n",
       "    </tr>\n",
       "  </tbody>\n",
       "</table>\n",
       "</div>"
      ],
      "text/plain": [
       "   RowNumber  CustomerId   Surname  CreditScore Geography  Gender  Age  \\\n",
       "0          1    15634602  Hargrave          619    France  Female   42   \n",
       "1          2    15647311      Hill          608     Spain  Female   41   \n",
       "2          3    15619304      Onio          502    France  Female   42   \n",
       "3          4    15701354      Boni          699    France  Female   39   \n",
       "4          5    15737888  Mitchell          850     Spain  Female   43   \n",
       "\n",
       "   Tenure    Balance  NumOfProducts  HasCrCard  IsActiveMember  \\\n",
       "0       2       0.00              1          1               1   \n",
       "1       1   83807.86              1          0               1   \n",
       "2       8  159660.80              3          1               0   \n",
       "3       1       0.00              2          0               0   \n",
       "4       2  125510.82              1          1               1   \n",
       "\n",
       "   EstimatedSalary  Exited  \n",
       "0        101348.88       1  \n",
       "1        112542.58       0  \n",
       "2        113931.57       1  \n",
       "3         93826.63       0  \n",
       "4         79084.10       0  "
      ]
     },
     "execution_count": 3,
     "metadata": {},
     "output_type": "execute_result"
    }
   ],
   "source": [
    "dataset.head()"
   ]
  },
  {
   "cell_type": "markdown",
   "id": "affiliated-defeat",
   "metadata": {},
   "source": [
    "This is data set for bank where the target column is 'Exited' which means whether the customer will continue his bank account or he will quit in future"
   ]
  },
  {
   "cell_type": "code",
   "execution_count": 4,
   "id": "hired-snapshot",
   "metadata": {},
   "outputs": [
    {
     "data": {
      "text/plain": [
       "(10000, 14)"
      ]
     },
     "execution_count": 4,
     "metadata": {},
     "output_type": "execute_result"
    }
   ],
   "source": [
    "dataset.shape"
   ]
  },
  {
   "cell_type": "code",
   "execution_count": 5,
   "id": "hairy-premises",
   "metadata": {},
   "outputs": [
    {
     "data": {
      "text/plain": [
       "RowNumber          0\n",
       "CustomerId         0\n",
       "Surname            0\n",
       "CreditScore        0\n",
       "Geography          0\n",
       "Gender             0\n",
       "Age                0\n",
       "Tenure             0\n",
       "Balance            0\n",
       "NumOfProducts      0\n",
       "HasCrCard          0\n",
       "IsActiveMember     0\n",
       "EstimatedSalary    0\n",
       "Exited             0\n",
       "dtype: int64"
      ]
     },
     "execution_count": 5,
     "metadata": {},
     "output_type": "execute_result"
    }
   ],
   "source": [
    "dataset.isnull().sum()"
   ]
  },
  {
   "cell_type": "code",
   "execution_count": 6,
   "id": "composed-vietnam",
   "metadata": {},
   "outputs": [],
   "source": [
    "# Separating dependent and independent features\n",
    "X = dataset.iloc[:, 3:13]\n",
    "y = dataset.iloc[:, 13]"
   ]
  },
  {
   "cell_type": "code",
   "execution_count": 7,
   "id": "addressed-exemption",
   "metadata": {},
   "outputs": [],
   "source": [
    "# Converting Categorical Features to numeric (using one hot encoding)\n",
    "geography = pd.get_dummies(X[\"Geography\"], drop_first=True)\n",
    "gender = pd.get_dummies(X['Gender'], drop_first=True)"
   ]
  },
  {
   "cell_type": "code",
   "execution_count": 8,
   "id": "invalid-inquiry",
   "metadata": {},
   "outputs": [],
   "source": [
    "# Concatenate the Data Frames\n",
    "X = pd.concat([X, geography, gender],axis=1)"
   ]
  },
  {
   "cell_type": "code",
   "execution_count": 9,
   "id": "classified-agreement",
   "metadata": {},
   "outputs": [],
   "source": [
    "# Drop Unnecessary columns\n",
    "X = X.drop(['Geography','Gender'],axis=1)"
   ]
  },
  {
   "cell_type": "code",
   "execution_count": 10,
   "id": "regular-diesel",
   "metadata": {},
   "outputs": [
    {
     "data": {
      "text/html": [
       "<div>\n",
       "<style scoped>\n",
       "    .dataframe tbody tr th:only-of-type {\n",
       "        vertical-align: middle;\n",
       "    }\n",
       "\n",
       "    .dataframe tbody tr th {\n",
       "        vertical-align: top;\n",
       "    }\n",
       "\n",
       "    .dataframe thead th {\n",
       "        text-align: right;\n",
       "    }\n",
       "</style>\n",
       "<table border=\"1\" class=\"dataframe\">\n",
       "  <thead>\n",
       "    <tr style=\"text-align: right;\">\n",
       "      <th></th>\n",
       "      <th>CreditScore</th>\n",
       "      <th>Age</th>\n",
       "      <th>Tenure</th>\n",
       "      <th>Balance</th>\n",
       "      <th>NumOfProducts</th>\n",
       "      <th>HasCrCard</th>\n",
       "      <th>IsActiveMember</th>\n",
       "      <th>EstimatedSalary</th>\n",
       "      <th>Germany</th>\n",
       "      <th>Spain</th>\n",
       "      <th>Male</th>\n",
       "    </tr>\n",
       "  </thead>\n",
       "  <tbody>\n",
       "    <tr>\n",
       "      <th>0</th>\n",
       "      <td>619</td>\n",
       "      <td>42</td>\n",
       "      <td>2</td>\n",
       "      <td>0.00</td>\n",
       "      <td>1</td>\n",
       "      <td>1</td>\n",
       "      <td>1</td>\n",
       "      <td>101348.88</td>\n",
       "      <td>0</td>\n",
       "      <td>0</td>\n",
       "      <td>0</td>\n",
       "    </tr>\n",
       "    <tr>\n",
       "      <th>1</th>\n",
       "      <td>608</td>\n",
       "      <td>41</td>\n",
       "      <td>1</td>\n",
       "      <td>83807.86</td>\n",
       "      <td>1</td>\n",
       "      <td>0</td>\n",
       "      <td>1</td>\n",
       "      <td>112542.58</td>\n",
       "      <td>0</td>\n",
       "      <td>1</td>\n",
       "      <td>0</td>\n",
       "    </tr>\n",
       "    <tr>\n",
       "      <th>2</th>\n",
       "      <td>502</td>\n",
       "      <td>42</td>\n",
       "      <td>8</td>\n",
       "      <td>159660.80</td>\n",
       "      <td>3</td>\n",
       "      <td>1</td>\n",
       "      <td>0</td>\n",
       "      <td>113931.57</td>\n",
       "      <td>0</td>\n",
       "      <td>0</td>\n",
       "      <td>0</td>\n",
       "    </tr>\n",
       "    <tr>\n",
       "      <th>3</th>\n",
       "      <td>699</td>\n",
       "      <td>39</td>\n",
       "      <td>1</td>\n",
       "      <td>0.00</td>\n",
       "      <td>2</td>\n",
       "      <td>0</td>\n",
       "      <td>0</td>\n",
       "      <td>93826.63</td>\n",
       "      <td>0</td>\n",
       "      <td>0</td>\n",
       "      <td>0</td>\n",
       "    </tr>\n",
       "    <tr>\n",
       "      <th>4</th>\n",
       "      <td>850</td>\n",
       "      <td>43</td>\n",
       "      <td>2</td>\n",
       "      <td>125510.82</td>\n",
       "      <td>1</td>\n",
       "      <td>1</td>\n",
       "      <td>1</td>\n",
       "      <td>79084.10</td>\n",
       "      <td>0</td>\n",
       "      <td>1</td>\n",
       "      <td>0</td>\n",
       "    </tr>\n",
       "  </tbody>\n",
       "</table>\n",
       "</div>"
      ],
      "text/plain": [
       "   CreditScore  Age  Tenure    Balance  NumOfProducts  HasCrCard  \\\n",
       "0          619   42       2       0.00              1          1   \n",
       "1          608   41       1   83807.86              1          0   \n",
       "2          502   42       8  159660.80              3          1   \n",
       "3          699   39       1       0.00              2          0   \n",
       "4          850   43       2  125510.82              1          1   \n",
       "\n",
       "   IsActiveMember  EstimatedSalary  Germany  Spain  Male  \n",
       "0               1        101348.88        0      0     0  \n",
       "1               1        112542.58        0      1     0  \n",
       "2               0        113931.57        0      0     0  \n",
       "3               0         93826.63        0      0     0  \n",
       "4               1         79084.10        0      1     0  "
      ]
     },
     "execution_count": 10,
     "metadata": {},
     "output_type": "execute_result"
    }
   ],
   "source": [
    "X.head()"
   ]
  },
  {
   "cell_type": "markdown",
   "id": "educational-republic",
   "metadata": {},
   "source": [
    "## Train test split"
   ]
  },
  {
   "cell_type": "code",
   "execution_count": 11,
   "id": "designing-press",
   "metadata": {},
   "outputs": [],
   "source": [
    "from sklearn.model_selection import train_test_split\n",
    "X_train, X_test, y_train, y_test = train_test_split(X, y, test_size = 0.2, random_state = 0)"
   ]
  },
  {
   "cell_type": "code",
   "execution_count": 12,
   "id": "thousand-going",
   "metadata": {},
   "outputs": [
    {
     "data": {
      "text/plain": [
       "(8000, 11)"
      ]
     },
     "execution_count": 12,
     "metadata": {},
     "output_type": "execute_result"
    }
   ],
   "source": [
    "X_train.shape"
   ]
  },
  {
   "cell_type": "code",
   "execution_count": null,
   "id": "biblical-duncan",
   "metadata": {},
   "outputs": [],
   "source": []
  },
  {
   "cell_type": "code",
   "execution_count": 13,
   "id": "indian-department",
   "metadata": {},
   "outputs": [],
   "source": [
    "## Interview question whether we require feature scaling in dl or not, if yes why?\n",
    "# Ans: Yes we require because if the features are scaled then multiplication happens quickly i.e. computation time is less so we will do feature scaling"
   ]
  },
  {
   "cell_type": "code",
   "execution_count": 14,
   "id": "employed-eating",
   "metadata": {},
   "outputs": [],
   "source": [
    "# Feature Scaling\n",
    "from sklearn.preprocessing import StandardScaler\n",
    "sc = StandardScaler()\n",
    "X_train = sc.fit_transform(X_train)\n",
    "X_test = sc.transform(X_test)"
   ]
  },
  {
   "cell_type": "markdown",
   "id": "american-month",
   "metadata": {},
   "source": [
    "# ANN Model starts"
   ]
  },
  {
   "cell_type": "code",
   "execution_count": 15,
   "id": "included-strategy",
   "metadata": {},
   "outputs": [],
   "source": [
    "# Importing the Keras libraries and packages\n",
    "import keras\n",
    "from keras.models import Sequential\n",
    "from keras.layers import Dense\n",
    "from keras.layers import LeakyReLU,PReLU,ELU\n",
    "from keras.layers import Dropout"
   ]
  },
  {
   "cell_type": "code",
   "execution_count": 16,
   "id": "organizational-november",
   "metadata": {},
   "outputs": [],
   "source": [
    "# Initialising the ANN\n",
    "classifier = Sequential()"
   ]
  },
  {
   "cell_type": "markdown",
   "id": "turned-picking",
   "metadata": {},
   "source": [
    "## Adding the layers "
   ]
  },
  {
   "cell_type": "code",
   "execution_count": 17,
   "id": "centered-emission",
   "metadata": {},
   "outputs": [],
   "source": [
    "# Adding the input layer and the first hidden layer\n",
    "classifier.add(Dense(units = 6, kernel_initializer = 'he_uniform', activation='relu', input_dim = 11))\n",
    "\n",
    "# units is nothing but the neurons in first hidden layer\n",
    "# kernel_initializer is nothing but various weight intialization technique\n",
    "# activation is nothing but activation function\n",
    "# input_dim is nothing but the input layer (since we have 11 input features (x) we have given 11)"
   ]
  },
  {
   "cell_type": "code",
   "execution_count": 18,
   "id": "marine-mississippi",
   "metadata": {},
   "outputs": [],
   "source": [
    "# Adding the second hidden layer\n",
    "classifier.add(Dense(units = 6, kernel_initializer = 'he_uniform',activation='relu'))"
   ]
  },
  {
   "cell_type": "code",
   "execution_count": 19,
   "id": "decimal-relative",
   "metadata": {},
   "outputs": [],
   "source": [
    "# Adding the output layer\n",
    "classifier.add(Dense(units = 1, kernel_initializer = 'glorot_uniform', activation = 'sigmoid'))"
   ]
  },
  {
   "cell_type": "markdown",
   "id": "periodic-wilderness",
   "metadata": {},
   "source": [
    "## Compiling the ANN model"
   ]
  },
  {
   "cell_type": "code",
   "execution_count": 20,
   "id": "seventh-coupon",
   "metadata": {},
   "outputs": [],
   "source": [
    "# Compiling the ANN\n",
    "classifier.compile(optimizer = 'Adamax', loss = 'binary_crossentropy', metrics = ['accuracy'])"
   ]
  },
  {
   "cell_type": "markdown",
   "id": "aggressive-cricket",
   "metadata": {},
   "source": [
    "## Fitting the model to Training set"
   ]
  },
  {
   "cell_type": "code",
   "execution_count": 21,
   "id": "sustainable-workstation",
   "metadata": {
    "collapsed": true,
    "jupyter": {
     "outputs_hidden": true
    },
    "tags": []
   },
   "outputs": [
    {
     "name": "stdout",
     "output_type": "stream",
     "text": [
      "Epoch 1/100\n",
      "536/536 [==============================] - 10s 2ms/step - loss: 0.5840 - accuracy: 0.7580 - val_loss: 0.4955 - val_accuracy: 0.7955\n",
      "Epoch 2/100\n",
      "536/536 [==============================] - 1s 1ms/step - loss: 0.4951 - accuracy: 0.7930 - val_loss: 0.4634 - val_accuracy: 0.7955\n",
      "Epoch 3/100\n",
      "536/536 [==============================] - 1s 1ms/step - loss: 0.4748 - accuracy: 0.7908 - val_loss: 0.4533 - val_accuracy: 0.7955\n",
      "Epoch 4/100\n",
      "536/536 [==============================] - 1s 1ms/step - loss: 0.4461 - accuracy: 0.8030 - val_loss: 0.4485 - val_accuracy: 0.7955\n",
      "Epoch 5/100\n",
      "536/536 [==============================] - 1s 1ms/step - loss: 0.4485 - accuracy: 0.8002 - val_loss: 0.4452 - val_accuracy: 0.7955\n",
      "Epoch 6/100\n",
      "536/536 [==============================] - 1s 1ms/step - loss: 0.4598 - accuracy: 0.7927 - val_loss: 0.4429 - val_accuracy: 0.7955\n",
      "Epoch 7/100\n",
      "536/536 [==============================] - 1s 991us/step - loss: 0.4378 - accuracy: 0.7988 - val_loss: 0.4410 - val_accuracy: 0.7955\n",
      "Epoch 8/100\n",
      "536/536 [==============================] - 1s 1ms/step - loss: 0.4404 - accuracy: 0.7930 - val_loss: 0.4392 - val_accuracy: 0.7955\n",
      "Epoch 9/100\n",
      "536/536 [==============================] - 1s 1ms/step - loss: 0.4306 - accuracy: 0.7998 - val_loss: 0.4378 - val_accuracy: 0.7955\n",
      "Epoch 10/100\n",
      "536/536 [==============================] - 1s 1ms/step - loss: 0.4278 - accuracy: 0.7994 - val_loss: 0.4367 - val_accuracy: 0.7974\n",
      "Epoch 11/100\n",
      "536/536 [==============================] - 1s 1ms/step - loss: 0.4307 - accuracy: 0.7980 - val_loss: 0.4355 - val_accuracy: 0.7982\n",
      "Epoch 12/100\n",
      "536/536 [==============================] - 1s 1ms/step - loss: 0.4253 - accuracy: 0.8109 - val_loss: 0.4342 - val_accuracy: 0.8008\n",
      "Epoch 13/100\n",
      "536/536 [==============================] - 1s 1ms/step - loss: 0.4172 - accuracy: 0.8070 - val_loss: 0.4327 - val_accuracy: 0.8020\n",
      "Epoch 14/100\n",
      "536/536 [==============================] - 1s 992us/step - loss: 0.4256 - accuracy: 0.8120 - val_loss: 0.4313 - val_accuracy: 0.8027\n",
      "Epoch 15/100\n",
      "536/536 [==============================] - 1s 1ms/step - loss: 0.4159 - accuracy: 0.8172 - val_loss: 0.4298 - val_accuracy: 0.8058\n",
      "Epoch 16/100\n",
      "536/536 [==============================] - 1s 995us/step - loss: 0.4298 - accuracy: 0.8140 - val_loss: 0.4286 - val_accuracy: 0.8076\n",
      "Epoch 17/100\n",
      "536/536 [==============================] - 1s 1ms/step - loss: 0.4170 - accuracy: 0.8192 - val_loss: 0.4274 - val_accuracy: 0.8095\n",
      "Epoch 18/100\n",
      "536/536 [==============================] - 1s 1ms/step - loss: 0.4152 - accuracy: 0.8181 - val_loss: 0.4264 - val_accuracy: 0.8118\n",
      "Epoch 19/100\n",
      "536/536 [==============================] - 1s 1ms/step - loss: 0.4262 - accuracy: 0.8139 - val_loss: 0.4255 - val_accuracy: 0.8111\n",
      "Epoch 20/100\n",
      "536/536 [==============================] - 1s 992us/step - loss: 0.4211 - accuracy: 0.8239 - val_loss: 0.4246 - val_accuracy: 0.8118\n",
      "Epoch 21/100\n",
      "536/536 [==============================] - 1s 981us/step - loss: 0.4051 - accuracy: 0.8289 - val_loss: 0.4238 - val_accuracy: 0.8129\n",
      "Epoch 22/100\n",
      "536/536 [==============================] - 1s 997us/step - loss: 0.4196 - accuracy: 0.8216 - val_loss: 0.4231 - val_accuracy: 0.8171\n",
      "Epoch 23/100\n",
      "536/536 [==============================] - 1s 1ms/step - loss: 0.4090 - accuracy: 0.8268 - val_loss: 0.4224 - val_accuracy: 0.8194\n",
      "Epoch 24/100\n",
      "536/536 [==============================] - 1s 1ms/step - loss: 0.4011 - accuracy: 0.8361 - val_loss: 0.4215 - val_accuracy: 0.8201\n",
      "Epoch 25/100\n",
      "536/536 [==============================] - 1s 1ms/step - loss: 0.4169 - accuracy: 0.8250 - val_loss: 0.4208 - val_accuracy: 0.8209\n",
      "Epoch 26/100\n",
      "536/536 [==============================] - 1s 1ms/step - loss: 0.4024 - accuracy: 0.8284 - val_loss: 0.4202 - val_accuracy: 0.8198\n",
      "Epoch 27/100\n",
      "536/536 [==============================] - 1s 1ms/step - loss: 0.4008 - accuracy: 0.8351 - val_loss: 0.4197 - val_accuracy: 0.8201\n",
      "Epoch 28/100\n",
      "536/536 [==============================] - 1s 1ms/step - loss: 0.4125 - accuracy: 0.8296 - val_loss: 0.4190 - val_accuracy: 0.8198\n",
      "Epoch 29/100\n",
      "536/536 [==============================] - 1s 1ms/step - loss: 0.3978 - accuracy: 0.8349 - val_loss: 0.4182 - val_accuracy: 0.8205\n",
      "Epoch 30/100\n",
      "536/536 [==============================] - 1s 967us/step - loss: 0.3996 - accuracy: 0.8326 - val_loss: 0.4177 - val_accuracy: 0.8209\n",
      "Epoch 31/100\n",
      "536/536 [==============================] - 1s 1ms/step - loss: 0.3949 - accuracy: 0.8363 - val_loss: 0.4172 - val_accuracy: 0.8224\n",
      "Epoch 32/100\n",
      "536/536 [==============================] - 1s 1ms/step - loss: 0.4085 - accuracy: 0.8312 - val_loss: 0.4166 - val_accuracy: 0.8228\n",
      "Epoch 33/100\n",
      "536/536 [==============================] - 1s 1ms/step - loss: 0.3960 - accuracy: 0.8348 - val_loss: 0.4162 - val_accuracy: 0.8217\n",
      "Epoch 34/100\n",
      "536/536 [==============================] - 1s 1ms/step - loss: 0.3924 - accuracy: 0.8369 - val_loss: 0.4157 - val_accuracy: 0.8220\n",
      "Epoch 35/100\n",
      "536/536 [==============================] - 1s 1ms/step - loss: 0.4054 - accuracy: 0.8299 - val_loss: 0.4151 - val_accuracy: 0.8232\n",
      "Epoch 36/100\n",
      "536/536 [==============================] - 1s 1ms/step - loss: 0.3941 - accuracy: 0.8359 - val_loss: 0.4148 - val_accuracy: 0.8224\n",
      "Epoch 37/100\n",
      "536/536 [==============================] - 1s 1ms/step - loss: 0.3952 - accuracy: 0.8359 - val_loss: 0.4141 - val_accuracy: 0.8228\n",
      "Epoch 38/100\n",
      "536/536 [==============================] - 1s 1ms/step - loss: 0.4066 - accuracy: 0.8331 - val_loss: 0.4137 - val_accuracy: 0.8220\n",
      "Epoch 39/100\n",
      "536/536 [==============================] - 1s 1ms/step - loss: 0.4006 - accuracy: 0.8374 - val_loss: 0.4128 - val_accuracy: 0.8224\n",
      "Epoch 40/100\n",
      "536/536 [==============================] - 1s 1ms/step - loss: 0.4023 - accuracy: 0.8405 - val_loss: 0.4121 - val_accuracy: 0.8228\n",
      "Epoch 41/100\n",
      "536/536 [==============================] - 1s 1ms/step - loss: 0.3995 - accuracy: 0.8313 - val_loss: 0.4116 - val_accuracy: 0.8220\n",
      "Epoch 42/100\n",
      "536/536 [==============================] - 1s 1ms/step - loss: 0.3894 - accuracy: 0.8380 - val_loss: 0.4110 - val_accuracy: 0.8224\n",
      "Epoch 43/100\n",
      "536/536 [==============================] - 1s 1ms/step - loss: 0.4026 - accuracy: 0.8329 - val_loss: 0.4101 - val_accuracy: 0.8228\n",
      "Epoch 44/100\n",
      "536/536 [==============================] - 1s 1ms/step - loss: 0.3800 - accuracy: 0.8457 - val_loss: 0.4094 - val_accuracy: 0.8217\n",
      "Epoch 45/100\n",
      "536/536 [==============================] - 1s 1ms/step - loss: 0.4026 - accuracy: 0.8333 - val_loss: 0.4087 - val_accuracy: 0.8232\n",
      "Epoch 46/100\n",
      "536/536 [==============================] - 1s 1ms/step - loss: 0.4068 - accuracy: 0.8313 - val_loss: 0.4080 - val_accuracy: 0.8228\n",
      "Epoch 47/100\n",
      "536/536 [==============================] - 1s 1ms/step - loss: 0.3976 - accuracy: 0.8295 - val_loss: 0.4071 - val_accuracy: 0.8236\n",
      "Epoch 48/100\n",
      "536/536 [==============================] - 1s 1ms/step - loss: 0.4078 - accuracy: 0.8242 - val_loss: 0.4064 - val_accuracy: 0.8247\n",
      "Epoch 49/100\n",
      "536/536 [==============================] - 1s 1ms/step - loss: 0.3843 - accuracy: 0.8372 - val_loss: 0.4053 - val_accuracy: 0.8251\n",
      "Epoch 50/100\n",
      "536/536 [==============================] - 1s 1ms/step - loss: 0.4037 - accuracy: 0.8319 - val_loss: 0.4045 - val_accuracy: 0.8236\n",
      "Epoch 51/100\n",
      "536/536 [==============================] - 1s 1ms/step - loss: 0.3899 - accuracy: 0.8348 - val_loss: 0.4037 - val_accuracy: 0.8236\n",
      "Epoch 52/100\n",
      "536/536 [==============================] - 0s 922us/step - loss: 0.3962 - accuracy: 0.8337 - val_loss: 0.4027 - val_accuracy: 0.8251\n",
      "Epoch 53/100\n",
      "536/536 [==============================] - 0s 906us/step - loss: 0.3811 - accuracy: 0.8396 - val_loss: 0.4014 - val_accuracy: 0.8262\n",
      "Epoch 54/100\n",
      "536/536 [==============================] - 0s 869us/step - loss: 0.3838 - accuracy: 0.8395 - val_loss: 0.4004 - val_accuracy: 0.8273\n",
      "Epoch 55/100\n",
      "536/536 [==============================] - 0s 908us/step - loss: 0.3708 - accuracy: 0.8464 - val_loss: 0.3998 - val_accuracy: 0.8277\n",
      "Epoch 56/100\n",
      "536/536 [==============================] - 0s 883us/step - loss: 0.3952 - accuracy: 0.8325 - val_loss: 0.3988 - val_accuracy: 0.8277\n",
      "Epoch 57/100\n",
      "536/536 [==============================] - 0s 893us/step - loss: 0.3959 - accuracy: 0.8320 - val_loss: 0.3978 - val_accuracy: 0.8281\n",
      "Epoch 58/100\n",
      "536/536 [==============================] - 0s 879us/step - loss: 0.3675 - accuracy: 0.8450 - val_loss: 0.3970 - val_accuracy: 0.8292\n",
      "Epoch 59/100\n",
      "536/536 [==============================] - 1s 1ms/step - loss: 0.3762 - accuracy: 0.8399 - val_loss: 0.3963 - val_accuracy: 0.8296\n",
      "Epoch 60/100\n",
      "536/536 [==============================] - 1s 975us/step - loss: 0.3729 - accuracy: 0.8445 - val_loss: 0.3953 - val_accuracy: 0.8292\n",
      "Epoch 61/100\n",
      "536/536 [==============================] - 0s 921us/step - loss: 0.3821 - accuracy: 0.8386 - val_loss: 0.3946 - val_accuracy: 0.8277\n",
      "Epoch 62/100\n",
      "536/536 [==============================] - 0s 901us/step - loss: 0.3750 - accuracy: 0.8423 - val_loss: 0.3939 - val_accuracy: 0.8296\n",
      "Epoch 63/100\n",
      "536/536 [==============================] - 1s 1ms/step - loss: 0.3876 - accuracy: 0.8351 - val_loss: 0.3933 - val_accuracy: 0.8296\n",
      "Epoch 64/100\n",
      "536/536 [==============================] - 1s 1ms/step - loss: 0.3887 - accuracy: 0.8367 - val_loss: 0.3925 - val_accuracy: 0.8292\n",
      "Epoch 65/100\n",
      "536/536 [==============================] - 1s 1ms/step - loss: 0.3587 - accuracy: 0.8463 - val_loss: 0.3914 - val_accuracy: 0.8292\n",
      "Epoch 66/100\n",
      "536/536 [==============================] - 1s 1ms/step - loss: 0.3715 - accuracy: 0.8436 - val_loss: 0.3906 - val_accuracy: 0.8296\n",
      "Epoch 67/100\n",
      "536/536 [==============================] - 0s 891us/step - loss: 0.3856 - accuracy: 0.8323 - val_loss: 0.3896 - val_accuracy: 0.8304\n",
      "Epoch 68/100\n",
      "536/536 [==============================] - 0s 872us/step - loss: 0.3529 - accuracy: 0.8512 - val_loss: 0.3888 - val_accuracy: 0.8319\n",
      "Epoch 69/100\n",
      "536/536 [==============================] - 0s 872us/step - loss: 0.3844 - accuracy: 0.8376 - val_loss: 0.3880 - val_accuracy: 0.8334\n",
      "Epoch 70/100\n",
      "536/536 [==============================] - 0s 812us/step - loss: 0.3755 - accuracy: 0.8407 - val_loss: 0.3869 - val_accuracy: 0.8330\n",
      "Epoch 71/100\n",
      "536/536 [==============================] - 0s 845us/step - loss: 0.3728 - accuracy: 0.8421 - val_loss: 0.3860 - val_accuracy: 0.8319\n",
      "Epoch 72/100\n",
      "536/536 [==============================] - 0s 866us/step - loss: 0.3663 - accuracy: 0.8424 - val_loss: 0.3854 - val_accuracy: 0.8353\n",
      "Epoch 73/100\n",
      "536/536 [==============================] - 0s 816us/step - loss: 0.3703 - accuracy: 0.8405 - val_loss: 0.3846 - val_accuracy: 0.8338\n",
      "Epoch 74/100\n",
      "536/536 [==============================] - 0s 846us/step - loss: 0.3725 - accuracy: 0.8395 - val_loss: 0.3839 - val_accuracy: 0.8342\n",
      "Epoch 75/100\n",
      "536/536 [==============================] - 0s 871us/step - loss: 0.3711 - accuracy: 0.8431 - val_loss: 0.3831 - val_accuracy: 0.8345\n",
      "Epoch 76/100\n",
      "536/536 [==============================] - 1s 957us/step - loss: 0.3624 - accuracy: 0.8449 - val_loss: 0.3826 - val_accuracy: 0.8372\n",
      "Epoch 77/100\n",
      "536/536 [==============================] - 0s 892us/step - loss: 0.3772 - accuracy: 0.8370 - val_loss: 0.3820 - val_accuracy: 0.8349\n",
      "Epoch 78/100\n",
      "536/536 [==============================] - 0s 918us/step - loss: 0.3846 - accuracy: 0.8313 - val_loss: 0.3812 - val_accuracy: 0.8330\n",
      "Epoch 79/100\n",
      "536/536 [==============================] - 0s 861us/step - loss: 0.3556 - accuracy: 0.8517 - val_loss: 0.3808 - val_accuracy: 0.8376\n",
      "Epoch 80/100\n",
      "536/536 [==============================] - 0s 861us/step - loss: 0.3605 - accuracy: 0.8453 - val_loss: 0.3798 - val_accuracy: 0.8357\n",
      "Epoch 81/100\n",
      "536/536 [==============================] - 0s 890us/step - loss: 0.3704 - accuracy: 0.8444 - val_loss: 0.3791 - val_accuracy: 0.8345\n",
      "Epoch 82/100\n",
      "536/536 [==============================] - 0s 870us/step - loss: 0.3670 - accuracy: 0.8458 - val_loss: 0.3786 - val_accuracy: 0.8357\n",
      "Epoch 83/100\n",
      "536/536 [==============================] - 0s 866us/step - loss: 0.3557 - accuracy: 0.8486 - val_loss: 0.3781 - val_accuracy: 0.8364\n",
      "Epoch 84/100\n",
      "536/536 [==============================] - 0s 847us/step - loss: 0.3632 - accuracy: 0.8452 - val_loss: 0.3775 - val_accuracy: 0.8353\n",
      "Epoch 85/100\n",
      "536/536 [==============================] - 0s 843us/step - loss: 0.3687 - accuracy: 0.8375 - val_loss: 0.3766 - val_accuracy: 0.8353\n",
      "Epoch 86/100\n",
      "536/536 [==============================] - 0s 852us/step - loss: 0.3525 - accuracy: 0.8459 - val_loss: 0.3761 - val_accuracy: 0.8349\n",
      "Epoch 87/100\n",
      "536/536 [==============================] - 0s 821us/step - loss: 0.3661 - accuracy: 0.8448 - val_loss: 0.3754 - val_accuracy: 0.8357\n",
      "Epoch 88/100\n",
      "536/536 [==============================] - 0s 836us/step - loss: 0.3496 - accuracy: 0.8554 - val_loss: 0.3752 - val_accuracy: 0.8376\n",
      "Epoch 89/100\n",
      "536/536 [==============================] - 0s 873us/step - loss: 0.3596 - accuracy: 0.8434 - val_loss: 0.3744 - val_accuracy: 0.8368\n",
      "Epoch 90/100\n",
      "536/536 [==============================] - 0s 811us/step - loss: 0.3572 - accuracy: 0.8486 - val_loss: 0.3739 - val_accuracy: 0.8379\n",
      "Epoch 91/100\n",
      "536/536 [==============================] - 0s 840us/step - loss: 0.3530 - accuracy: 0.8506 - val_loss: 0.3735 - val_accuracy: 0.8410\n",
      "Epoch 92/100\n",
      "536/536 [==============================] - 0s 863us/step - loss: 0.3425 - accuracy: 0.8580 - val_loss: 0.3730 - val_accuracy: 0.8406\n",
      "Epoch 93/100\n",
      "536/536 [==============================] - 0s 829us/step - loss: 0.3692 - accuracy: 0.8442 - val_loss: 0.3723 - val_accuracy: 0.8417\n",
      "Epoch 94/100\n",
      "536/536 [==============================] - 0s 835us/step - loss: 0.3713 - accuracy: 0.8459 - val_loss: 0.3715 - val_accuracy: 0.8429\n",
      "Epoch 95/100\n",
      "536/536 [==============================] - 0s 844us/step - loss: 0.3545 - accuracy: 0.8509 - val_loss: 0.3713 - val_accuracy: 0.8425\n",
      "Epoch 96/100\n",
      "536/536 [==============================] - 0s 837us/step - loss: 0.3653 - accuracy: 0.8470 - val_loss: 0.3706 - val_accuracy: 0.8440\n",
      "Epoch 97/100\n",
      "536/536 [==============================] - 0s 844us/step - loss: 0.3630 - accuracy: 0.8474 - val_loss: 0.3700 - val_accuracy: 0.8436\n",
      "Epoch 98/100\n",
      "536/536 [==============================] - 0s 818us/step - loss: 0.3569 - accuracy: 0.8520 - val_loss: 0.3698 - val_accuracy: 0.8444\n",
      "Epoch 99/100\n",
      "536/536 [==============================] - 0s 872us/step - loss: 0.3515 - accuracy: 0.8530 - val_loss: 0.3690 - val_accuracy: 0.8436\n",
      "Epoch 100/100\n",
      "536/536 [==============================] - 0s 845us/step - loss: 0.3469 - accuracy: 0.8584 - val_loss: 0.3685 - val_accuracy: 0.8448\n"
     ]
    }
   ],
   "source": [
    "# Fitting the ANN to the Training set\n",
    "model_history = classifier.fit(X_train, y_train, validation_split=0.33, batch_size = 10, epochs = 100)"
   ]
  },
  {
   "cell_type": "code",
   "execution_count": 22,
   "id": "orange-professional",
   "metadata": {},
   "outputs": [
    {
     "name": "stdout",
     "output_type": "stream",
     "text": [
      "dict_keys(['loss', 'accuracy', 'val_loss', 'val_accuracy'])\n"
     ]
    }
   ],
   "source": [
    "# list all data in history\n",
    "print(model_history.history.keys())"
   ]
  },
  {
   "cell_type": "code",
   "execution_count": 23,
   "id": "stunning-radical",
   "metadata": {},
   "outputs": [
    {
     "data": {
      "image/png": "[encoded data removed]",
      "text/plain": [
       "<Figure size 432x288 with 1 Axes>"
      ]
     },
     "metadata": {
      "needs_background": "light"
     },
     "output_type": "display_data"
    }
   ],
   "source": [
    "# summarize history for accuracy\n",
    "plt.plot(model_history.history['accuracy'])\n",
    "plt.plot(model_history.history['val_accuracy'])\n",
    "plt.title('model accuracy')\n",
    "plt.ylabel('accuracy')\n",
    "plt.xlabel('epoch')\n",
    "plt.legend(['train', 'test'], loc='lower right')\n",
    "plt.show()"
   ]
  },
  {
   "cell_type": "code",
   "execution_count": 24,
   "id": "naughty-julian",
   "metadata": {},
   "outputs": [
    {
     "data": {
      "image/png": "[encoded data removed]",
      "text/plain": [
       "<Figure size 432x288 with 1 Axes>"
      ]
     },
     "metadata": {
      "needs_background": "light"
     },
     "output_type": "display_data"
    }
   ],
   "source": [
    "# summarize history for loss\n",
    "plt.plot(model_history.history['loss'])\n",
    "plt.plot(model_history.history['val_loss'])\n",
    "plt.title('model loss')\n",
    "plt.ylabel('loss')\n",
    "plt.xlabel('epoch')\n",
    "plt.legend(['train', 'test'])\n",
    "plt.show()"
   ]
  },
  {
   "cell_type": "markdown",
   "id": "musical-intermediate",
   "metadata": {},
   "source": [
    "## Predicting for Test data"
   ]
  },
  {
   "cell_type": "code",
   "execution_count": 25,
   "id": "minor-rendering",
   "metadata": {},
   "outputs": [
    {
     "data": {
      "text/plain": [
       "array([[False],\n",
       "       [False],\n",
       "       [False],\n",
       "       ...,\n",
       "       [False],\n",
       "       [False],\n",
       "       [False]])"
      ]
     },
     "execution_count": 25,
     "metadata": {},
     "output_type": "execute_result"
    }
   ],
   "source": [
    "y_pred = classifier.predict(X_test)\n",
    "y_pred = (y_pred > 0.5)\n",
    "y_pred"
   ]
  },
  {
   "cell_type": "markdown",
   "id": "acceptable-lebanon",
   "metadata": {},
   "source": [
    "## Checking the Accuracy of the Model"
   ]
  },
  {
   "cell_type": "code",
   "execution_count": 26,
   "id": "turned-robinson",
   "metadata": {},
   "outputs": [
    {
     "data": {
      "text/plain": [
       "array([[1523,   72],\n",
       "       [ 224,  181]], dtype=int64)"
      ]
     },
     "execution_count": 26,
     "metadata": {},
     "output_type": "execute_result"
    }
   ],
   "source": [
    "# Making the Confusion Matrix\n",
    "from sklearn.metrics import confusion_matrix\n",
    "cm = confusion_matrix(y_test, y_pred)\n",
    "cm"
   ]
  },
  {
   "cell_type": "code",
   "execution_count": 27,
   "id": "aquatic-stability",
   "metadata": {},
   "outputs": [
    {
     "data": {
      "text/plain": [
       "0.852"
      ]
     },
     "execution_count": 27,
     "metadata": {},
     "output_type": "execute_result"
    }
   ],
   "source": [
    "# Calculate the Accuracy\n",
    "from sklearn.metrics import accuracy_score\n",
    "acc_score = accuracy_score(y_test, y_pred)\n",
    "acc_score"
   ]
  },
  {
   "cell_type": "code",
   "execution_count": null,
   "id": "broadband-ordinary",
   "metadata": {},
   "outputs": [],
   "source": []
  },
  {
   "cell_type": "markdown",
   "id": "suspected-andrews",
   "metadata": {},
   "source": [
    "# Checking the Model accuracy by adding the Droupout Layers"
   ]
  },
  {
   "cell_type": "code",
   "execution_count": 28,
   "id": "featured-divorce",
   "metadata": {},
   "outputs": [],
   "source": [
    "# Adding the input layer and the first hidden layer\n",
    "classifier.add(Dense(units = 6, kernel_initializer = 'he_uniform', activation='relu', input_dim = 11))"
   ]
  },
  {
   "cell_type": "code",
   "execution_count": 29,
   "id": "conceptual-princeton",
   "metadata": {},
   "outputs": [],
   "source": [
    "# Adding the dropout neurons\n",
    "classifier.add(Dropout(0.3))"
   ]
  },
  {
   "cell_type": "code",
   "execution_count": 30,
   "id": "attended-maintenance",
   "metadata": {},
   "outputs": [],
   "source": [
    "# Adding the second hidden layer\n",
    "classifier.add(Dense(units = 6, kernel_initializer = 'he_uniform',activation='relu'))"
   ]
  },
  {
   "cell_type": "code",
   "execution_count": 31,
   "id": "intimate-retirement",
   "metadata": {},
   "outputs": [],
   "source": [
    "# Adding the dropout neurons\n",
    "classifier.add(Dropout(0.3))"
   ]
  },
  {
   "cell_type": "code",
   "execution_count": 32,
   "id": "atomic-cycle",
   "metadata": {},
   "outputs": [],
   "source": [
    "# Adding the output layer\n",
    "classifier.add(Dense(units = 1, kernel_initializer = 'glorot_uniform', activation = 'sigmoid'))"
   ]
  },
  {
   "cell_type": "code",
   "execution_count": 33,
   "id": "initial-buffer",
   "metadata": {},
   "outputs": [],
   "source": [
    "# Compiling the ANN\n",
    "classifier.compile(optimizer = 'Adamax', loss = 'binary_crossentropy', metrics = ['accuracy'])"
   ]
  },
  {
   "cell_type": "code",
   "execution_count": 34,
   "id": "swedish-scanning",
   "metadata": {
    "collapsed": true,
    "jupyter": {
     "outputs_hidden": true
    },
    "tags": []
   },
   "outputs": [
    {
     "name": "stdout",
     "output_type": "stream",
     "text": [
      "Epoch 1/100\n",
      "536/536 [==============================] - 2s 2ms/step - loss: 0.7027 - accuracy: 0.8022 - val_loss: 0.5783 - val_accuracy: 0.7955\n",
      "Epoch 2/100\n",
      "536/536 [==============================] - 1s 1ms/step - loss: 0.5982 - accuracy: 0.7864 - val_loss: 0.5292 - val_accuracy: 0.7955\n",
      "Epoch 3/100\n",
      "536/536 [==============================] - 1s 1ms/step - loss: 0.5276 - accuracy: 0.8044 - val_loss: 0.5153 - val_accuracy: 0.7955\n",
      "Epoch 4/100\n",
      "536/536 [==============================] - 1s 1ms/step - loss: 0.5187 - accuracy: 0.7978 - val_loss: 0.5094 - val_accuracy: 0.7955\n",
      "Epoch 5/100\n",
      "536/536 [==============================] - 1s 1ms/step - loss: 0.5239 - accuracy: 0.7867 - val_loss: 0.5058 - val_accuracy: 0.7955\n",
      "Epoch 6/100\n",
      "536/536 [==============================] - 1s 1ms/step - loss: 0.5126 - accuracy: 0.7967 - val_loss: 0.5035 - val_accuracy: 0.7955\n",
      "Epoch 7/100\n",
      "536/536 [==============================] - 1s 1ms/step - loss: 0.5104 - accuracy: 0.7986 - val_loss: 0.4968 - val_accuracy: 0.7955\n",
      "Epoch 8/100\n",
      "536/536 [==============================] - 1s 1ms/step - loss: 0.4943 - accuracy: 0.7974 - val_loss: 0.4822 - val_accuracy: 0.7955\n",
      "Epoch 9/100\n",
      "536/536 [==============================] - 1s 993us/step - loss: 0.4974 - accuracy: 0.7874 - val_loss: 0.4657 - val_accuracy: 0.7955\n",
      "Epoch 10/100\n",
      "536/536 [==============================] - 1s 1ms/step - loss: 0.4721 - accuracy: 0.7988 - val_loss: 0.4523 - val_accuracy: 0.7955\n",
      "Epoch 11/100\n",
      "536/536 [==============================] - 1s 1ms/step - loss: 0.4602 - accuracy: 0.8097 - val_loss: 0.4434 - val_accuracy: 0.7955\n",
      "Epoch 12/100\n",
      "536/536 [==============================] - 1s 1ms/step - loss: 0.4595 - accuracy: 0.7947 - val_loss: 0.4344 - val_accuracy: 0.7955\n",
      "Epoch 13/100\n",
      "536/536 [==============================] - 1s 1ms/step - loss: 0.4512 - accuracy: 0.7951 - val_loss: 0.4274 - val_accuracy: 0.7955\n",
      "Epoch 14/100\n",
      "536/536 [==============================] - 1s 970us/step - loss: 0.4371 - accuracy: 0.8066 - val_loss: 0.4219 - val_accuracy: 0.7955\n",
      "Epoch 15/100\n",
      "536/536 [==============================] - 1s 935us/step - loss: 0.4310 - accuracy: 0.8094 - val_loss: 0.4179 - val_accuracy: 0.7955\n",
      "Epoch 16/100\n",
      "536/536 [==============================] - 1s 953us/step - loss: 0.4514 - accuracy: 0.7958 - val_loss: 0.4153 - val_accuracy: 0.7955\n",
      "Epoch 17/100\n",
      "536/536 [==============================] - 1s 974us/step - loss: 0.4393 - accuracy: 0.7949 - val_loss: 0.4123 - val_accuracy: 0.7955\n",
      "Epoch 18/100\n",
      "536/536 [==============================] - 1s 957us/step - loss: 0.4238 - accuracy: 0.8013 - val_loss: 0.4107 - val_accuracy: 0.7955\n",
      "Epoch 19/100\n",
      "536/536 [==============================] - 1s 978us/step - loss: 0.4211 - accuracy: 0.8093 - val_loss: 0.4087 - val_accuracy: 0.7955\n",
      "Epoch 20/100\n",
      "536/536 [==============================] - 1s 1ms/step - loss: 0.4172 - accuracy: 0.8148 - val_loss: 0.4065 - val_accuracy: 0.7955\n",
      "Epoch 21/100\n",
      "536/536 [==============================] - 1s 1ms/step - loss: 0.4227 - accuracy: 0.8087 - val_loss: 0.4049 - val_accuracy: 0.7955\n",
      "Epoch 22/100\n",
      "536/536 [==============================] - 1s 950us/step - loss: 0.4311 - accuracy: 0.8029 - val_loss: 0.4032 - val_accuracy: 0.7955\n",
      "Epoch 23/100\n",
      "536/536 [==============================] - 1s 1ms/step - loss: 0.4152 - accuracy: 0.8118 - val_loss: 0.4020 - val_accuracy: 0.7955\n",
      "Epoch 24/100\n",
      "536/536 [==============================] - 1s 988us/step - loss: 0.4291 - accuracy: 0.7953 - val_loss: 0.4009 - val_accuracy: 0.7955\n",
      "Epoch 25/100\n",
      "536/536 [==============================] - 1s 1ms/step - loss: 0.4132 - accuracy: 0.8026 - val_loss: 0.3998 - val_accuracy: 0.7955\n",
      "Epoch 26/100\n",
      "536/536 [==============================] - 1s 993us/step - loss: 0.4231 - accuracy: 0.7971 - val_loss: 0.3988 - val_accuracy: 0.7955\n",
      "Epoch 27/100\n",
      "536/536 [==============================] - 1s 938us/step - loss: 0.4093 - accuracy: 0.8073 - val_loss: 0.3983 - val_accuracy: 0.7955\n",
      "Epoch 28/100\n",
      "536/536 [==============================] - 1s 964us/step - loss: 0.4175 - accuracy: 0.8022 - val_loss: 0.3969 - val_accuracy: 0.7955\n",
      "Epoch 29/100\n",
      "536/536 [==============================] - 1s 994us/step - loss: 0.4026 - accuracy: 0.8006 - val_loss: 0.3957 - val_accuracy: 0.7955\n",
      "Epoch 30/100\n",
      "536/536 [==============================] - 1s 959us/step - loss: 0.4322 - accuracy: 0.7880 - val_loss: 0.3946 - val_accuracy: 0.7955\n",
      "Epoch 31/100\n",
      "536/536 [==============================] - 1s 997us/step - loss: 0.3941 - accuracy: 0.8109 - val_loss: 0.3943 - val_accuracy: 0.7955\n",
      "Epoch 32/100\n",
      "536/536 [==============================] - 1s 1ms/step - loss: 0.3979 - accuracy: 0.8100 - val_loss: 0.3932 - val_accuracy: 0.7955\n",
      "Epoch 33/100\n",
      "536/536 [==============================] - 1s 951us/step - loss: 0.4025 - accuracy: 0.8154 - val_loss: 0.3929 - val_accuracy: 0.7955\n",
      "Epoch 34/100\n",
      "536/536 [==============================] - 1s 996us/step - loss: 0.4081 - accuracy: 0.8045 - val_loss: 0.3924 - val_accuracy: 0.7955\n",
      "Epoch 35/100\n",
      "536/536 [==============================] - 1s 961us/step - loss: 0.4042 - accuracy: 0.8074 - val_loss: 0.3922 - val_accuracy: 0.7955\n",
      "Epoch 36/100\n",
      "536/536 [==============================] - 1s 1ms/step - loss: 0.4024 - accuracy: 0.8093 - val_loss: 0.3920 - val_accuracy: 0.7955\n",
      "Epoch 37/100\n",
      "536/536 [==============================] - 1s 974us/step - loss: 0.3973 - accuracy: 0.8104 - val_loss: 0.3921 - val_accuracy: 0.7955\n",
      "Epoch 38/100\n",
      "536/536 [==============================] - 1s 1ms/step - loss: 0.4061 - accuracy: 0.8104 - val_loss: 0.3914 - val_accuracy: 0.7955\n",
      "Epoch 39/100\n",
      "536/536 [==============================] - 1s 1ms/step - loss: 0.3953 - accuracy: 0.8069 - val_loss: 0.3898 - val_accuracy: 0.7955\n",
      "Epoch 40/100\n",
      "536/536 [==============================] - 1s 1ms/step - loss: 0.4098 - accuracy: 0.8087 - val_loss: 0.3896 - val_accuracy: 0.7955\n",
      "Epoch 41/100\n",
      "536/536 [==============================] - 1s 943us/step - loss: 0.3997 - accuracy: 0.8008 - val_loss: 0.3897 - val_accuracy: 0.7955\n",
      "Epoch 42/100\n",
      "536/536 [==============================] - 1s 971us/step - loss: 0.3997 - accuracy: 0.8059 - val_loss: 0.3892 - val_accuracy: 0.7955\n",
      "Epoch 43/100\n",
      "536/536 [==============================] - 1s 1ms/step - loss: 0.3979 - accuracy: 0.8152 - val_loss: 0.3889 - val_accuracy: 0.7955\n",
      "Epoch 44/100\n",
      "536/536 [==============================] - 1s 1ms/step - loss: 0.4095 - accuracy: 0.8024 - val_loss: 0.3883 - val_accuracy: 0.7955\n",
      "Epoch 45/100\n",
      "536/536 [==============================] - 1s 1ms/step - loss: 0.4091 - accuracy: 0.8094 - val_loss: 0.3884 - val_accuracy: 0.7955\n",
      "Epoch 46/100\n",
      "536/536 [==============================] - 1s 1ms/step - loss: 0.4032 - accuracy: 0.8037 - val_loss: 0.3882 - val_accuracy: 0.7955\n",
      "Epoch 47/100\n",
      "536/536 [==============================] - 1s 1ms/step - loss: 0.4018 - accuracy: 0.8033 - val_loss: 0.3876 - val_accuracy: 0.7955\n",
      "Epoch 48/100\n",
      "536/536 [==============================] - 1s 1ms/step - loss: 0.4136 - accuracy: 0.7981 - val_loss: 0.3874 - val_accuracy: 0.7955\n",
      "Epoch 49/100\n",
      "536/536 [==============================] - 1s 1ms/step - loss: 0.4075 - accuracy: 0.8052 - val_loss: 0.3867 - val_accuracy: 0.7955\n",
      "Epoch 50/100\n",
      "536/536 [==============================] - 1s 1ms/step - loss: 0.3980 - accuracy: 0.8157 - val_loss: 0.3871 - val_accuracy: 0.7955\n",
      "Epoch 51/100\n",
      "536/536 [==============================] - 1s 1ms/step - loss: 0.4030 - accuracy: 0.8040 - val_loss: 0.3871 - val_accuracy: 0.7955\n",
      "Epoch 52/100\n",
      "536/536 [==============================] - 1s 1ms/step - loss: 0.4056 - accuracy: 0.7988 - val_loss: 0.3864 - val_accuracy: 0.7955\n",
      "Epoch 53/100\n",
      "536/536 [==============================] - 1s 1ms/step - loss: 0.4251 - accuracy: 0.7988 - val_loss: 0.3862 - val_accuracy: 0.7955\n",
      "Epoch 54/100\n",
      "536/536 [==============================] - 1s 1ms/step - loss: 0.4007 - accuracy: 0.8037 - val_loss: 0.3853 - val_accuracy: 0.7955\n",
      "Epoch 55/100\n",
      "536/536 [==============================] - 1s 1ms/step - loss: 0.3989 - accuracy: 0.7994 - val_loss: 0.3856 - val_accuracy: 0.7955\n",
      "Epoch 56/100\n",
      "536/536 [==============================] - 1s 1ms/step - loss: 0.4005 - accuracy: 0.8062 - val_loss: 0.3854 - val_accuracy: 0.7955\n",
      "Epoch 57/100\n",
      "536/536 [==============================] - 1s 1ms/step - loss: 0.4186 - accuracy: 0.8010 - val_loss: 0.3853 - val_accuracy: 0.7955\n",
      "Epoch 58/100\n",
      "536/536 [==============================] - 1s 1ms/step - loss: 0.4066 - accuracy: 0.8143 - val_loss: 0.3847 - val_accuracy: 0.7955\n",
      "Epoch 59/100\n",
      "536/536 [==============================] - 1s 1ms/step - loss: 0.4119 - accuracy: 0.8039 - val_loss: 0.3844 - val_accuracy: 0.7955\n",
      "Epoch 60/100\n",
      "536/536 [==============================] - 1s 1ms/step - loss: 0.3972 - accuracy: 0.8240 - val_loss: 0.3842 - val_accuracy: 0.8497\n",
      "Epoch 61/100\n",
      "536/536 [==============================] - 1s 1ms/step - loss: 0.3989 - accuracy: 0.8291 - val_loss: 0.3839 - val_accuracy: 0.7955\n",
      "Epoch 62/100\n",
      "536/536 [==============================] - 1s 1ms/step - loss: 0.4038 - accuracy: 0.8271 - val_loss: 0.3834 - val_accuracy: 0.8497\n",
      "Epoch 63/100\n",
      "536/536 [==============================] - 1s 1ms/step - loss: 0.4005 - accuracy: 0.8436 - val_loss: 0.3834 - val_accuracy: 0.8504\n",
      "Epoch 64/100\n",
      "536/536 [==============================] - 1s 1ms/step - loss: 0.4033 - accuracy: 0.8482 - val_loss: 0.3827 - val_accuracy: 0.8516\n",
      "Epoch 65/100\n",
      "536/536 [==============================] - 1s 1ms/step - loss: 0.4200 - accuracy: 0.8353 - val_loss: 0.3830 - val_accuracy: 0.8501\n",
      "Epoch 66/100\n",
      "536/536 [==============================] - 1s 1ms/step - loss: 0.3998 - accuracy: 0.8460 - val_loss: 0.3837 - val_accuracy: 0.8519\n",
      "Epoch 67/100\n",
      "536/536 [==============================] - 1s 1ms/step - loss: 0.4126 - accuracy: 0.8421 - val_loss: 0.3830 - val_accuracy: 0.8504\n",
      "Epoch 68/100\n",
      "536/536 [==============================] - 1s 1ms/step - loss: 0.3839 - accuracy: 0.8578 - val_loss: 0.3827 - val_accuracy: 0.8512\n",
      "Epoch 69/100\n",
      "536/536 [==============================] - 1s 1ms/step - loss: 0.4030 - accuracy: 0.8451 - val_loss: 0.3823 - val_accuracy: 0.8504\n",
      "Epoch 70/100\n",
      "536/536 [==============================] - 1s 1ms/step - loss: 0.3810 - accuracy: 0.8558 - val_loss: 0.3826 - val_accuracy: 0.8508\n",
      "Epoch 71/100\n",
      "536/536 [==============================] - 1s 986us/step - loss: 0.4087 - accuracy: 0.8400 - val_loss: 0.3814 - val_accuracy: 0.8523\n",
      "Epoch 72/100\n",
      "536/536 [==============================] - 1s 995us/step - loss: 0.4051 - accuracy: 0.8304 - val_loss: 0.3812 - val_accuracy: 0.8501\n",
      "Epoch 73/100\n",
      "536/536 [==============================] - 1s 964us/step - loss: 0.4015 - accuracy: 0.8474 - val_loss: 0.3821 - val_accuracy: 0.8546\n",
      "Epoch 74/100\n",
      "536/536 [==============================] - 1s 971us/step - loss: 0.3992 - accuracy: 0.8352 - val_loss: 0.3817 - val_accuracy: 0.8523\n",
      "Epoch 75/100\n",
      "536/536 [==============================] - 1s 1ms/step - loss: 0.4090 - accuracy: 0.8445 - val_loss: 0.3819 - val_accuracy: 0.8523\n",
      "Epoch 76/100\n",
      "536/536 [==============================] - 1s 1ms/step - loss: 0.4116 - accuracy: 0.8442 - val_loss: 0.3813 - val_accuracy: 0.8538\n",
      "Epoch 77/100\n",
      "536/536 [==============================] - 1s 957us/step - loss: 0.4100 - accuracy: 0.8460 - val_loss: 0.3812 - val_accuracy: 0.8523\n",
      "Epoch 78/100\n",
      "536/536 [==============================] - 1s 1ms/step - loss: 0.4135 - accuracy: 0.8399 - val_loss: 0.3811 - val_accuracy: 0.8527\n",
      "Epoch 79/100\n",
      "536/536 [==============================] - 1s 1ms/step - loss: 0.4008 - accuracy: 0.8374 - val_loss: 0.3810 - val_accuracy: 0.8523\n",
      "Epoch 80/100\n",
      "536/536 [==============================] - 1s 1ms/step - loss: 0.3904 - accuracy: 0.8527 - val_loss: 0.3806 - val_accuracy: 0.8527\n",
      "Epoch 81/100\n",
      "536/536 [==============================] - 1s 964us/step - loss: 0.4087 - accuracy: 0.8425 - val_loss: 0.3810 - val_accuracy: 0.8501\n",
      "Epoch 82/100\n",
      "536/536 [==============================] - 1s 945us/step - loss: 0.3903 - accuracy: 0.8435 - val_loss: 0.3812 - val_accuracy: 0.8538\n",
      "Epoch 83/100\n",
      "536/536 [==============================] - 1s 918us/step - loss: 0.4010 - accuracy: 0.8355 - val_loss: 0.3802 - val_accuracy: 0.8527\n",
      "Epoch 84/100\n",
      "536/536 [==============================] - 1s 995us/step - loss: 0.3888 - accuracy: 0.8460 - val_loss: 0.3805 - val_accuracy: 0.8538\n",
      "Epoch 85/100\n",
      "536/536 [==============================] - 1s 1ms/step - loss: 0.4025 - accuracy: 0.8510 - val_loss: 0.3810 - val_accuracy: 0.8550\n",
      "Epoch 86/100\n",
      "536/536 [==============================] - 1s 940us/step - loss: 0.4012 - accuracy: 0.8370 - val_loss: 0.3800 - val_accuracy: 0.8538\n",
      "Epoch 87/100\n",
      "536/536 [==============================] - 1s 967us/step - loss: 0.4108 - accuracy: 0.8377 - val_loss: 0.3800 - val_accuracy: 0.8554\n",
      "Epoch 88/100\n",
      "536/536 [==============================] - 1s 973us/step - loss: 0.4107 - accuracy: 0.8376 - val_loss: 0.3803 - val_accuracy: 0.8554\n",
      "Epoch 89/100\n",
      "536/536 [==============================] - 1s 991us/step - loss: 0.3873 - accuracy: 0.8442 - val_loss: 0.3814 - val_accuracy: 0.8535\n",
      "Epoch 90/100\n",
      "536/536 [==============================] - 1s 1ms/step - loss: 0.4045 - accuracy: 0.8413 - val_loss: 0.3798 - val_accuracy: 0.8557\n",
      "Epoch 91/100\n",
      "536/536 [==============================] - 1s 950us/step - loss: 0.4017 - accuracy: 0.8479 - val_loss: 0.3805 - val_accuracy: 0.8554\n",
      "Epoch 92/100\n",
      "536/536 [==============================] - 1s 966us/step - loss: 0.4074 - accuracy: 0.8450 - val_loss: 0.3795 - val_accuracy: 0.8546\n",
      "Epoch 93/100\n",
      "536/536 [==============================] - 1s 1ms/step - loss: 0.3973 - accuracy: 0.8471 - val_loss: 0.3792 - val_accuracy: 0.8554\n",
      "Epoch 94/100\n",
      "536/536 [==============================] - 1s 1ms/step - loss: 0.3863 - accuracy: 0.8567 - val_loss: 0.3793 - val_accuracy: 0.8554\n",
      "Epoch 95/100\n",
      "536/536 [==============================] - 1s 991us/step - loss: 0.4108 - accuracy: 0.8396 - val_loss: 0.3791 - val_accuracy: 0.8557\n",
      "Epoch 96/100\n",
      "536/536 [==============================] - 1s 970us/step - loss: 0.3971 - accuracy: 0.8445 - val_loss: 0.3796 - val_accuracy: 0.8569\n",
      "Epoch 97/100\n",
      "536/536 [==============================] - 0s 932us/step - loss: 0.3986 - accuracy: 0.8510 - val_loss: 0.3793 - val_accuracy: 0.8557\n",
      "Epoch 98/100\n",
      "536/536 [==============================] - 1s 941us/step - loss: 0.4063 - accuracy: 0.8419 - val_loss: 0.3794 - val_accuracy: 0.8557\n",
      "Epoch 99/100\n",
      "536/536 [==============================] - 1s 961us/step - loss: 0.4107 - accuracy: 0.8366 - val_loss: 0.3794 - val_accuracy: 0.8523\n",
      "Epoch 100/100\n",
      "536/536 [==============================] - 1s 936us/step - loss: 0.4083 - accuracy: 0.8422 - val_loss: 0.3807 - val_accuracy: 0.8542\n"
     ]
    }
   ],
   "source": [
    "# Fitting the ANN to the Training set\n",
    "model_history = classifier.fit(X_train, y_train, validation_split = 0.33, batch_size = 10, epochs = 100)"
   ]
  },
  {
   "cell_type": "code",
   "execution_count": 35,
   "id": "sized-species",
   "metadata": {},
   "outputs": [
    {
     "data": {
      "text/plain": [
       "array([[False],\n",
       "       [False],\n",
       "       [False],\n",
       "       ...,\n",
       "       [False],\n",
       "       [False],\n",
       "       [False]])"
      ]
     },
     "execution_count": 35,
     "metadata": {},
     "output_type": "execute_result"
    }
   ],
   "source": [
    "y_pred = classifier.predict(X_test)\n",
    "y_pred = (y_pred > 0.5)\n",
    "y_pred"
   ]
  },
  {
   "cell_type": "code",
   "execution_count": 36,
   "id": "ultimate-costs",
   "metadata": {},
   "outputs": [
    {
     "data": {
      "text/plain": [
       "array([[1483,  112],\n",
       "       [ 183,  222]], dtype=int64)"
      ]
     },
     "execution_count": 36,
     "metadata": {},
     "output_type": "execute_result"
    }
   ],
   "source": [
    "# Making the Confusion Matrix\n",
    "from sklearn.metrics import confusion_matrix\n",
    "cm = confusion_matrix(y_test, y_pred)\n",
    "cm"
   ]
  },
  {
   "cell_type": "code",
   "execution_count": 37,
   "id": "gentle-assurance",
   "metadata": {},
   "outputs": [
    {
     "data": {
      "text/plain": [
       "0.8525"
      ]
     },
     "execution_count": 37,
     "metadata": {},
     "output_type": "execute_result"
    }
   ],
   "source": [
    "# Calculate the Accuracy\n",
    "from sklearn.metrics import accuracy_score\n",
    "acc_score = accuracy_score(y_pred,y_test)\n",
    "acc_score"
   ]
  },
  {
   "cell_type": "markdown",
   "id": "controlled-picnic",
   "metadata": {},
   "source": [
    "So in the model if some neurons are dropped but we got the 79.7% accuacy"
   ]
  }
 ],
 "metadata": {
  "kernelspec": {
   "display_name": "Python 3",
   "language": "python",
   "name": "python3"
  },
  "language_info": {
   "codemirror_mode": {
    "name": "ipython",
    "version": 3
   },
   "file_extension": ".py",
   "mimetype": "text/x-python",
   "name": "python",
   "nbconvert_exporter": "python",
   "pygments_lexer": "ipython3",
   "version": "3.8.6"
  }
 },
 "nbformat": 4,
 "nbformat_minor": 5
}
